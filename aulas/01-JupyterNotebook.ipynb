{
 "cells": [
  {
   "cell_type": "markdown",
   "metadata": {
    "slideshow": {
     "slide_type": "slide"
    }
   },
   "source": [
    "# O Jupyter Notebook\n",
    "\n",
    "Este documento é um *Jupyter Notebook*, esta é uma forma exploratória de editar e executar códigos em Python. Uma das grandes vantagens do *Notebook* é ser capaz de apresentar textos formatados lado a lado com códigos em Python."
   ]
  },
  {
   "cell_type": "markdown",
   "metadata": {
    "slideshow": {
     "slide_type": "subslide"
    }
   },
   "source": [
    "## As células do *notebook*\n",
    "\n",
    "A estrutura básica de um *notebook* é a célula. Cada célula tem um objetivo único, que pode ser conter, por exemplo um **texto**, **código**, **metadados** ou muitos outros tipos de dados que não trataremos aqui.\n",
    "\n",
    "Por exemplo, a próxima célula apresenta um código. Que efetua a seguinte operação\n",
    "\n",
    "\\begin{equation}\n",
    "5+2 = 7\n",
    "\\end{equation}\n",
    "\n",
    "Para executar selecione "
   ]
  },
  {
   "cell_type": "code",
   "execution_count": 1,
   "metadata": {
    "slideshow": {
     "slide_type": "fragment"
    }
   },
   "outputs": [
    {
     "data": {
      "text/plain": [
       "7"
      ]
     },
     "execution_count": 1,
     "metadata": {},
     "output_type": "execute_result"
    }
   ],
   "source": [
    "5+2"
   ]
  },
  {
   "cell_type": "markdown",
   "metadata": {
    "slideshow": {
     "slide_type": "subslide"
    }
   },
   "source": [
    "O código é escrito na lingagem Python e efetua uma operação aritmética básica. Poderíamos também executar um comando Python diretamente."
   ]
  },
  {
   "cell_type": "code",
   "execution_count": 2,
   "metadata": {
    "slideshow": {
     "slide_type": "fragment"
    }
   },
   "outputs": [
    {
     "name": "stdout",
     "output_type": "stream",
     "text": [
      "Olá Mundo\n"
     ]
    }
   ],
   "source": [
    "print(\"Olá Mundo\")"
   ]
  },
  {
   "cell_type": "markdown",
   "metadata": {
    "slideshow": {
     "slide_type": "subslide"
    }
   },
   "source": [
    "Digitar alguma coisa sem sentido em uma célula de código nos da um erro Python"
   ]
  },
  {
   "cell_type": "code",
   "execution_count": 1,
   "metadata": {
    "slideshow": {
     "slide_type": "fragment"
    }
   },
   "outputs": [
    {
     "ename": "NameError",
     "evalue": "name 'imprime' is not defined",
     "output_type": "error",
     "traceback": [
      "\u001b[0;31m---------------------------------------------------------------------------\u001b[0m",
      "\u001b[0;31mNameError\u001b[0m                                 Traceback (most recent call last)",
      "\u001b[0;32m<ipython-input-1-4ceb93d5f99f>\u001b[0m in \u001b[0;36m<module>\u001b[0;34m\u001b[0m\n\u001b[0;32m----> 1\u001b[0;31m \u001b[0mimprime\u001b[0m\u001b[0;34m(\u001b[0m\u001b[0;34m\"Olá Mundo\"\u001b[0m\u001b[0;34m)\u001b[0m\u001b[0;34m\u001b[0m\u001b[0;34m\u001b[0m\u001b[0m\n\u001b[0m",
      "\u001b[0;31mNameError\u001b[0m: name 'imprime' is not defined"
     ]
    }
   ],
   "source": [
    "imprime(\"Olá Mundo\")"
   ]
  },
  {
   "cell_type": "markdown",
   "metadata": {
    "slideshow": {
     "slide_type": "slide"
    }
   },
   "source": [
    "## Modo texto\n",
    "\n",
    "Uma célula em modo texto (Markdown), não é interpretada pelo Python. Você pode considerar que ela funciona como um comentário. Você pode inserir utilizando a sintaxe do [Markdown](https://jupyter-notebook.readthedocs.io/en/stable/examples/Notebook/Working%20With%20Markdown%20Cells.html). Pode inclusive incluir a notação matemática do LaTex.\n",
    "\n",
    "\\begin{equation}\n",
    "\\sum_{i=0}^n \\frac{ (-1)^n f(x)^{(n)}(x-a)}{n!}\n",
    "\\end{equation}\n"
   ]
  },
  {
   "cell_type": "markdown",
   "metadata": {
    "slideshow": {
     "slide_type": "subslide"
    }
   },
   "source": [
    "## Estados do notebook\n",
    "\n",
    "O notebook pode ficar em dois estados\n",
    "\n",
    "* Edição (caixa verde) Tecla: ENTER\n",
    "* Comando (caixa azul) Tecla: ESC"
   ]
  },
  {
   "cell_type": "markdown",
   "metadata": {
    "slideshow": {
     "slide_type": "skip"
    }
   },
   "source": [
    "No modo de edição as setas e teclas manipulam o conteúdo da célula. No modo de comando as setas movem entre células e as outras teclas representam comandos."
   ]
  },
  {
   "cell_type": "markdown",
   "metadata": {
    "slideshow": {
     "slide_type": "skip"
    }
   },
   "source": [
    "No dia de hoje, iremos aprender Python em conjunto com a manipulação dos **notebooks**."
   ]
  },
  {
   "cell_type": "markdown",
   "metadata": {
    "slideshow": {
     "slide_type": "subslide"
    }
   },
   "source": [
    "### Praticando\n",
    "\n",
    "Pratique adicionando células novas, tanto do tipo **texto**, como **código**, fazendo operações aritméticas simples e texto formatado utilizando a linguagem Markdown.\n",
    "\n",
    "| Atalho | Função |\n",
    "|--------|--------|\n",
    "| ENTER  | Edita a célula |\n",
    "| SHIFT-ENTER | Executa a célula |\n",
    "| Setas | Move o cursor |\n",
    "| a | Adiciona uma célula acima |\n",
    "| b | Adiciona uma célula abaixo\n",
    "| y | Muda o tipo de célula para CÓDIGO |\n",
    "| m | Muda o tipo de célula para TEXTO |\n",
    "| x | Corta célula |\n",
    "| c | Copia célula |\n",
    "| v | Cola célula abaixo |\n"
   ]
  }
 ],
 "metadata": {
  "kernelspec": {
   "display_name": "Python 3",
   "language": "python",
   "name": "python3"
  },
  "language_info": {
   "codemirror_mode": {
    "name": "ipython",
    "version": 3
   },
   "file_extension": ".py",
   "mimetype": "text/x-python",
   "name": "python",
   "nbconvert_exporter": "python",
   "pygments_lexer": "ipython3",
   "version": "3.7.3rc1"
  }
 },
 "nbformat": 4,
 "nbformat_minor": 2
}
