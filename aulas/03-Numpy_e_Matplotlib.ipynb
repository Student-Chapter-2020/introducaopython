{
 "cells": [
  {
   "cell_type": "markdown",
   "metadata": {
    "slideshow": {
     "slide_type": "slide"
    }
   },
   "source": [
    "# Empoderando o Python\n",
    "\n",
    "![](imagens/python_on_steroids.jpg)"
   ]
  },
  {
   "cell_type": "markdown",
   "metadata": {
    "slideshow": {
     "slide_type": "subslide"
    }
   },
   "source": [
    "# Empoderando o Python\n",
    "\n",
    "* Importando bibliotecas\n",
    "* Espaços de nomes\n",
    "* NumPy\n",
    "* Matplolib"
   ]
  },
  {
   "cell_type": "markdown",
   "metadata": {
    "slideshow": {
     "slide_type": "slide"
    }
   },
   "source": [
    "# Importando bibliotecas\n",
    "\n",
    "\n",
    "## Sintaxe\n",
    "\n",
    "`import BIBLIOTECA`\n",
    "\n",
    "`import BIBLIOTECA as BIB`\n",
    "\n",
    "`from BIBLIOTECA import FUNCAO1, FUNCAO2, ...`\n"
   ]
  },
  {
   "cell_type": "markdown",
   "metadata": {
    "slideshow": {
     "slide_type": "skip"
    }
   },
   "source": [
    "Após importar os comandos ficam imediatamente disponíveis. É fortemente recomendado que os comandos de importação fiquem no início do arquivo. Quando importando de uma biblioteca utilizando o `import` as funções disponíveis ficam associadas a um espaço de nomes, que é uma forma de evitar conflito de nomes e facilmente identificar a origem do objeto."
   ]
  },
  {
   "cell_type": "markdown",
   "metadata": {
    "slideshow": {
     "slide_type": "subslide"
    }
   },
   "source": [
    "## Exemplos de importação"
   ]
  },
  {
   "cell_type": "code",
   "execution_count": 1,
   "metadata": {
    "slideshow": {
     "slide_type": "fragment"
    }
   },
   "outputs": [],
   "source": [
    "import numpy"
   ]
  },
  {
   "cell_type": "code",
   "execution_count": 2,
   "metadata": {
    "slideshow": {
     "slide_type": "fragment"
    }
   },
   "outputs": [
    {
     "data": {
      "text/plain": [
       "2.0"
      ]
     },
     "execution_count": 2,
     "metadata": {},
     "output_type": "execute_result"
    }
   ],
   "source": [
    "numpy.sqrt(4)"
   ]
  },
  {
   "cell_type": "code",
   "execution_count": 3,
   "metadata": {
    "slideshow": {
     "slide_type": "fragment"
    }
   },
   "outputs": [],
   "source": [
    "import numpy as np"
   ]
  },
  {
   "cell_type": "code",
   "execution_count": 4,
   "metadata": {
    "slideshow": {
     "slide_type": "fragment"
    }
   },
   "outputs": [
    {
     "data": {
      "text/plain": [
       "2.0"
      ]
     },
     "execution_count": 4,
     "metadata": {},
     "output_type": "execute_result"
    }
   ],
   "source": [
    "np.sqrt(4)"
   ]
  },
  {
   "cell_type": "code",
   "execution_count": 5,
   "metadata": {
    "slideshow": {
     "slide_type": "fragment"
    }
   },
   "outputs": [
    {
     "ename": "NameError",
     "evalue": "name 'sqrt' is not defined",
     "output_type": "error",
     "traceback": [
      "\u001b[0;31m---------------------------------------------------------------------------\u001b[0m",
      "\u001b[0;31mNameError\u001b[0m                                 Traceback (most recent call last)",
      "\u001b[0;32m<ipython-input-5-317e033d29d5>\u001b[0m in \u001b[0;36m<module>\u001b[0;34m\u001b[0m\n\u001b[0;32m----> 1\u001b[0;31m \u001b[0msqrt\u001b[0m\u001b[0;34m(\u001b[0m\u001b[0;36m4\u001b[0m\u001b[0;34m)\u001b[0m\u001b[0;34m\u001b[0m\u001b[0;34m\u001b[0m\u001b[0m\n\u001b[0m",
      "\u001b[0;31mNameError\u001b[0m: name 'sqrt' is not defined"
     ]
    }
   ],
   "source": [
    "sqrt(4)"
   ]
  },
  {
   "cell_type": "code",
   "execution_count": 6,
   "metadata": {
    "slideshow": {
     "slide_type": "fragment"
    }
   },
   "outputs": [],
   "source": [
    "from cmath import sqrt, sin, cos"
   ]
  },
  {
   "cell_type": "code",
   "execution_count": 7,
   "metadata": {
    "slideshow": {
     "slide_type": "fragment"
    }
   },
   "outputs": [
    {
     "data": {
      "text/plain": [
       "(2+0j)"
      ]
     },
     "execution_count": 7,
     "metadata": {},
     "output_type": "execute_result"
    }
   ],
   "source": [
    "sqrt(4)"
   ]
  },
  {
   "cell_type": "markdown",
   "metadata": {
    "slideshow": {
     "slide_type": "slide"
    }
   },
   "source": [
    "# A biblioteca NumPy\n",
    "\n",
    "* Parte do projeto SciPy;\n",
    "* Implementa uma estrutura númerica n-dimensional muito poderosa;\n",
    "* Computacionalmente muito eficiente;\n",
    "* Possui uma vasta coleção de funções e métodos;\n",
    "* Funções de álgebra linear (`numpy.linalg`)\n",
    "* É provavelmente o motivo pelo qual o Python atingiu sua fama."
   ]
  },
  {
   "cell_type": "markdown",
   "metadata": {
    "slideshow": {
     "slide_type": "skip"
    }
   },
   "source": [
    "Inicialmente lançada como `numeric` em 1995, a biblioteca [NumPy](https://www.numpy.org) renomeada em 2005 é provavelmente a responsável pela fama que a linguagem Python possui. É a biblioteca fundamental na computação científica com Python, sendo parte do projeto [SciPy](https://www.scipy.org/). Em sua essência implementa o objeto **numpy.array** que é uma estrutura n-dimensional com suporte a operações vetoriais, matriciais e tensoriais, computacionalmente eficiente em termos de performance e precisão. \n",
    "\n",
    "Apesar do Python ser considerada uma lingagem lenta, quando o numpy.array é utilizado de forma correta o speedup obtido é na casa de 3 a 4 ordens de magnitude, muitas vezes ultrapassando a performance de linguagens famosas por computação numérica eficiente como Fortran e Júlia. Isso é possível pois internamente toda computação é realizada de forma extremamente otimizada, quando possível utilizando instruções otimizadas do hardware disponível. Mostraremos exemplos comparando a performance entre uma implementação regular em Python e uma implementada utilizando corretamente o NumPy onde o ganho de performance chega a ser 8000x maior, mas apesar deste exemplo ilustrativo, nosso objetivo com esta aula não é otimização de performance.\n",
    "\n",
    "A biblioteca NumPy possui uma [vasta coleção de funções](https://docs.scipy.org/doc/numpy/reference/routines.html), aqui trataremos somente de uma parte bem pequena. Dentro da NumPy existem os submódulos: `FFT` (transformada de Fourier), `linalg` (Algebra Linear), `matlib` (operações com matrizes) e `random` (números pseudo aleatórios)."
   ]
  },
  {
   "cell_type": "markdown",
   "metadata": {
    "slideshow": {
     "slide_type": "subslide"
    }
   },
   "source": [
    "## Operações com Numpy Array\n",
    "\n",
    "### Criando Numpy Arrays"
   ]
  },
  {
   "cell_type": "code",
   "execution_count": 8,
   "metadata": {
    "slideshow": {
     "slide_type": "fragment"
    }
   },
   "outputs": [],
   "source": [
    "M = np.array([1, 2, 3, 4, 5])"
   ]
  },
  {
   "cell_type": "code",
   "execution_count": 9,
   "metadata": {
    "slideshow": {
     "slide_type": "fragment"
    }
   },
   "outputs": [],
   "source": [
    "N_lista = [1, 2, 3, 4, 5, 6, 7]\n",
    "N = np.array(N_lista)"
   ]
  },
  {
   "cell_type": "code",
   "execution_count": 10,
   "metadata": {
    "slideshow": {
     "slide_type": "fragment"
    }
   },
   "outputs": [
    {
     "data": {
      "text/plain": [
       "array([1., 1., 1., 1., 1., 1., 1., 1., 1., 1.])"
      ]
     },
     "execution_count": 10,
     "metadata": {},
     "output_type": "execute_result"
    }
   ],
   "source": [
    "I = np.ones(10)\n",
    "I"
   ]
  },
  {
   "cell_type": "code",
   "execution_count": 11,
   "metadata": {
    "slideshow": {
     "slide_type": "fragment"
    }
   },
   "outputs": [
    {
     "data": {
      "text/plain": [
       "array([0., 0., 0., 0., 0., 0., 0., 0., 0., 0.])"
      ]
     },
     "execution_count": 11,
     "metadata": {},
     "output_type": "execute_result"
    }
   ],
   "source": [
    "Z = np.zeros_like(I)\n",
    "Z"
   ]
  },
  {
   "cell_type": "code",
   "execution_count": 12,
   "metadata": {
    "slideshow": {
     "slide_type": "fragment"
    }
   },
   "outputs": [
    {
     "data": {
      "text/plain": [
       "dtype('int64')"
      ]
     },
     "execution_count": 12,
     "metadata": {},
     "output_type": "execute_result"
    }
   ],
   "source": [
    "M.dtype"
   ]
  },
  {
   "cell_type": "code",
   "execution_count": 13,
   "metadata": {
    "scrolled": true,
    "slideshow": {
     "slide_type": "fragment"
    }
   },
   "outputs": [
    {
     "data": {
      "text/plain": [
       "dtype('float64')"
      ]
     },
     "execution_count": 13,
     "metadata": {},
     "output_type": "execute_result"
    }
   ],
   "source": [
    "I.dtype"
   ]
  },
  {
   "cell_type": "markdown",
   "metadata": {
    "slideshow": {
     "slide_type": "skip"
    }
   },
   "source": [
    "Como os *numpy arrays*, são otimizados para performance, mudar o seu tamanho não é uma tarefa simples como acontece com as listas Python. Por esta razão esta operação não será explicada durante este curso. Sempre crie os arrays numpy com o tamanho correto para a aplicação.\n",
    "\n",
    "Os elementos de um array numpy devem pertencer todos ao mesmo tipo de objeto (`int64`, `float64`, `object`, etc), quando adicionado tipos diferentes a um array, ele será convertido para o tipo do array (por exemplo adicionar um número  com casas decimais a um array do tipo `int64` converterá o número para o tipo inteiro. Este tipo de operação deve ser evitada a todo custo. Os tipos de dados válidos para um numpy array podem ser vistos em [https://docs.scipy.org/doc/numpy/reference/arrays.scalars.html]\n",
    "\n",
    "Caso a biblioteca não consiga identificar o melhor tipo para um array ele irá configurar o tipo `object` que tem o comportamento semelhante as listas python (ou seja todos os tipos podem ser inseridos), mas que possui a pior performance, evite a todo custo."
   ]
  },
  {
   "cell_type": "markdown",
   "metadata": {
    "slideshow": {
     "slide_type": "subslide"
    }
   },
   "source": [
    "## Aritmética com Numpy Arrays"
   ]
  },
  {
   "cell_type": "code",
   "execution_count": 14,
   "metadata": {
    "slideshow": {
     "slide_type": "fragment"
    }
   },
   "outputs": [],
   "source": [
    "u = np.array([2,1,2,0])\n",
    "v = np.array([1,1,2,3])"
   ]
  },
  {
   "cell_type": "code",
   "execution_count": 15,
   "metadata": {
    "slideshow": {
     "slide_type": "fragment"
    }
   },
   "outputs": [
    {
     "data": {
      "text/plain": [
       "array([3, 2, 4, 3])"
      ]
     },
     "execution_count": 15,
     "metadata": {},
     "output_type": "execute_result"
    }
   ],
   "source": [
    "u + v"
   ]
  },
  {
   "cell_type": "code",
   "execution_count": 16,
   "metadata": {
    "slideshow": {
     "slide_type": "fragment"
    }
   },
   "outputs": [
    {
     "data": {
      "text/plain": [
       "array([ 1,  0,  0, -3])"
      ]
     },
     "execution_count": 16,
     "metadata": {},
     "output_type": "execute_result"
    }
   ],
   "source": [
    "u - v"
   ]
  },
  {
   "cell_type": "code",
   "execution_count": 17,
   "metadata": {
    "slideshow": {
     "slide_type": "fragment"
    }
   },
   "outputs": [
    {
     "data": {
      "text/plain": [
       "array([2, 1, 4, 0])"
      ]
     },
     "execution_count": 17,
     "metadata": {},
     "output_type": "execute_result"
    }
   ],
   "source": [
    "u * v"
   ]
  },
  {
   "cell_type": "code",
   "execution_count": 18,
   "metadata": {
    "slideshow": {
     "slide_type": "fragment"
    }
   },
   "outputs": [
    {
     "data": {
      "text/plain": [
       "array([2., 1., 1., 0.])"
      ]
     },
     "execution_count": 18,
     "metadata": {},
     "output_type": "execute_result"
    }
   ],
   "source": [
    "u / v"
   ]
  },
  {
   "cell_type": "code",
   "execution_count": 19,
   "metadata": {
    "slideshow": {
     "slide_type": "fragment"
    }
   },
   "outputs": [
    {
     "data": {
      "text/plain": [
       "array([1, 0, 0, 3])"
      ]
     },
     "execution_count": 19,
     "metadata": {},
     "output_type": "execute_result"
    }
   ],
   "source": [
    "abs(u-v)"
   ]
  },
  {
   "cell_type": "code",
   "execution_count": 20,
   "metadata": {
    "slideshow": {
     "slide_type": "fragment"
    }
   },
   "outputs": [
    {
     "data": {
      "text/plain": [
       "7"
      ]
     },
     "execution_count": 20,
     "metadata": {},
     "output_type": "execute_result"
    }
   ],
   "source": [
    "u @ v"
   ]
  },
  {
   "cell_type": "markdown",
   "metadata": {
    "slideshow": {
     "slide_type": "skip"
    }
   },
   "source": [
    "Arrays numpy se comportam na maioria dos casos como vetores matemáticos desta forma as operações ($+$, $-$, $*$, $/$) são aplicadas elemento a elemento. Isso exige que os vetores possuam as mesmas dimensões.\n",
    "\n",
    "Além disso os arrays numpy também suportam a indexação e o fatiamento similar as listas."
   ]
  },
  {
   "cell_type": "markdown",
   "metadata": {
    "slideshow": {
     "slide_type": "subslide"
    }
   },
   "source": [
    "## Exercicio 1\n",
    "\n",
    "A diferença progressiva de primeira ordem de uma série, é dada pela diferença entre o elemento seguinte da série e o elemento atual. Se consideramos um elementos unitariamente espaçados de uma série, podemos considerar a diferença progressiva como um análogo discreto ao conceito de derivada.\n",
    "\n",
    "Seja a série $x = \\{ x_i \\} \\; 1 \\le i \\le \\infty$. A $i$-ésima diferença progressiva de primeira ordem é dada por\n",
    "\n",
    "\\begin{equation}\n",
    "\\Delta x_i = x_{i+1} - x_i\n",
    "\\end{equation}\n",
    "\n",
    "Utilizando o que aprendeu até o momento, crie um algoritmo para calcular a diferença progressiva dos 30 primeiros numeros de Fibonacci armazenados na variável `fibo`"
   ]
  },
  {
   "cell_type": "code",
   "execution_count": 21,
   "metadata": {
    "slideshow": {
     "slide_type": "skip"
    }
   },
   "outputs": [],
   "source": [
    "# Armazena os 30 primeiros Fibonacci na lista fibo\n",
    "n = 30\n",
    "a, b, i = 0, 1, 2\n",
    "fibo = [a, b]\n",
    "while i < n :\n",
    "    i = i + 1\n",
    "    a, b = b, a+b\n",
    "    fibo.append(b)"
   ]
  },
  {
   "cell_type": "code",
   "execution_count": 22,
   "metadata": {
    "slideshow": {
     "slide_type": "skip"
    }
   },
   "outputs": [],
   "source": [
    "# Sua resposta aqui"
   ]
  },
  {
   "cell_type": "code",
   "execution_count": 23,
   "metadata": {
    "slideshow": {
     "slide_type": "skip"
    }
   },
   "outputs": [],
   "source": [
    "# Gabarito 1\n",
    "# %load .resps/difprog.py"
   ]
  },
  {
   "cell_type": "code",
   "execution_count": 24,
   "metadata": {
    "slideshow": {
     "slide_type": "skip"
    }
   },
   "outputs": [],
   "source": [
    "# Gabarito 2\n",
    "# % load .resps/difprog_o.py"
   ]
  },
  {
   "cell_type": "markdown",
   "metadata": {
    "slideshow": {
     "slide_type": "slide"
    }
   },
   "source": [
    "# Gráficos\n",
    "\n",
    "* Biblioteca `matplotlib`\n",
    "\n",
    "* Imita o comportamento do Matlab\n",
    "\n",
    "* Suporte a orientação a objetos\n",
    "\n",
    "* Suporte a $\\LaTeX$\n",
    "\n",
    "* [Multiplos formatos de gráficos](https://matplotlib.org/gallery/index.html)\n",
    "\n",
    "* Vamos ver:\n",
    "\n",
    "  * Função\n",
    "\n",
    "  * Imagens e Matrizes\n",
    "  \n",
    "  * Espalhamento\n",
    "  \n",
    "  * Barra\n",
    "  \n",
    "  * Setores (Pizza/Torta)\n",
    "  \n",
    "  * Histogramas"
   ]
  },
  {
   "cell_type": "markdown",
   "metadata": {
    "slideshow": {
     "slide_type": "subslide"
    }
   },
   "source": [
    "## Iniciando a MatplotLib"
   ]
  },
  {
   "cell_type": "code",
   "execution_count": 25,
   "metadata": {
    "slideshow": {
     "slide_type": "fragment"
    }
   },
   "outputs": [],
   "source": [
    "import matplotlib.pyplot as plt"
   ]
  },
  {
   "cell_type": "code",
   "execution_count": 26,
   "metadata": {
    "slideshow": {
     "slide_type": "fragment"
    }
   },
   "outputs": [],
   "source": [
    "x = np.arange(5)"
   ]
  },
  {
   "cell_type": "code",
   "execution_count": 27,
   "metadata": {
    "slideshow": {
     "slide_type": "fragment"
    }
   },
   "outputs": [
    {
     "data": {
      "image/png": "[encoded data removed]",
      "text/plain": [
       "<Figure size 432x288 with 1 Axes>"
      ]
     },
     "metadata": {
      "needs_background": "light"
     },
     "output_type": "display_data"
    }
   ],
   "source": [
    "plt.plot(x, x**2);"
   ]
  },
  {
   "cell_type": "markdown",
   "metadata": {},
   "source": [
    "![](./imagens/owl.gif)"
   ]
  },
  {
   "cell_type": "markdown",
   "metadata": {
    "slideshow": {
     "slide_type": "subslide"
    }
   },
   "source": [
    "## Definindo o domínio\n",
    "\n",
    "`np.linspace(a, b, n)`\n",
    "\n",
    "Onde `a` é o limite inferior, `b` o limite superior e `n` o número de intervalos entre os limites."
   ]
  },
  {
   "cell_type": "code",
   "execution_count": 28,
   "metadata": {
    "slideshow": {
     "slide_type": "fragment"
    }
   },
   "outputs": [],
   "source": [
    "x = np.linspace(-4, 3, 101)"
   ]
  },
  {
   "cell_type": "code",
   "execution_count": 29,
   "metadata": {
    "slideshow": {
     "slide_type": "fragment"
    }
   },
   "outputs": [],
   "source": [
    "a, b, c = 1, 1, -2"
   ]
  },
  {
   "cell_type": "code",
   "execution_count": 30,
   "metadata": {
    "slideshow": {
     "slide_type": "fragment"
    }
   },
   "outputs": [],
   "source": [
    "y = a*x**2 + b*x + c"
   ]
  },
  {
   "cell_type": "code",
   "execution_count": 31,
   "metadata": {
    "scrolled": false,
    "slideshow": {
     "slide_type": "fragment"
    }
   },
   "outputs": [
    {
     "data": {
      "image/png": "[encoded data removed]",
      "text/plain": [
       "<Figure size 432x288 with 1 Axes>"
      ]
     },
     "metadata": {
      "needs_background": "light"
     },
     "output_type": "display_data"
    }
   ],
   "source": [
    "plt.plot(x, y);\n",
    "plt.plot(x, .5*x+3);"
   ]
  },
  {
   "cell_type": "markdown",
   "metadata": {
    "slideshow": {
     "slide_type": "subslide"
    }
   },
   "source": [
    "![](imagens/parb.png)"
   ]
  },
  {
   "cell_type": "markdown",
   "metadata": {
    "slideshow": {
     "slide_type": "subslide"
    }
   },
   "source": [
    "## Exercício\n",
    "\n",
    "Converta os primeiros 30 números de Fibonacci em um numpy array e crie um gráfico contendo tanto os numeros Fibonacci como as suas diferenças progressivas. Não se esqueça que quando gerando gráficos com mais de uma função é necessário que o número de pontos no domínio seja o mesmo em todas as funções."
   ]
  },
  {
   "cell_type": "code",
   "execution_count": 32,
   "metadata": {
    "slideshow": {
     "slide_type": "skip"
    }
   },
   "outputs": [],
   "source": [
    "# Sua resposta aqui"
   ]
  },
  {
   "cell_type": "code",
   "execution_count": 33,
   "metadata": {
    "slideshow": {
     "slide_type": "skip"
    }
   },
   "outputs": [],
   "source": [
    "# Gabarito\n",
    "# %load .resps/fibo_graf.py"
   ]
  },
  {
   "cell_type": "markdown",
   "metadata": {
    "slideshow": {
     "slide_type": "slide"
    }
   },
   "source": [
    "# Tente\n",
    "\n",
    "`import antigravity`"
   ]
  },
  {
   "cell_type": "code",
   "execution_count": null,
   "metadata": {},
   "outputs": [],
   "source": []
  }
 ],
 "metadata": {
  "kernelspec": {
   "display_name": "Python 3",
   "language": "python",
   "name": "python3"
  },
  "language_info": {
   "codemirror_mode": {
    "name": "ipython",
    "version": 3
   },
   "file_extension": ".py",
   "mimetype": "text/x-python",
   "name": "python",
   "nbconvert_exporter": "python",
   "pygments_lexer": "ipython3",
   "version": "3.7.3rc1"
  }
 },
 "nbformat": 4,
 "nbformat_minor": 2
}
