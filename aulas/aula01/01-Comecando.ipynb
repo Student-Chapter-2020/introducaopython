{
 "cells": [
  {
   "cell_type": "markdown",
   "metadata": {
    "slideshow": {
     "slide_type": "slide"
    }
   },
   "source": [
    "# Introdução\n",
    "\n",
    "Este documento é um *Jupyter Notebook*, esta é uma forma exploratória de editar e executar códigos em Python. Uma das grandes vantagens do *Notebook* é ser capaz de apresentar textos formatados lado a lado com códigos em Python."
   ]
  },
  {
   "cell_type": "markdown",
   "metadata": {
    "slideshow": {
     "slide_type": "subslide"
    }
   },
   "source": [
    "## As células do *notebook*\n",
    "\n",
    "A estrutura básica de um *notebook* é a célula. Cada célula tem um objetivo único, que pode ser conter, por exemplo um **texto**, **código**, **metadados** ou muitos outros tipos de dados que não trataremos aqui.\n",
    "\n",
    "Por exemplo, a próxima célula apresenta um código. Que efetua a seguinte operação\n",
    "\n",
    "\\begin{equation}\n",
    "5+2 = 7\n",
    "\\end{equation}\n",
    "\n",
    "Para executar selecione "
   ]
  },
  {
   "cell_type": "code",
   "execution_count": 1,
   "metadata": {
    "slideshow": {
     "slide_type": "fragment"
    }
   },
   "outputs": [
    {
     "data": {
      "text/plain": [
       "7"
      ]
     },
     "execution_count": 1,
     "metadata": {},
     "output_type": "execute_result"
    }
   ],
   "source": [
    "5+2"
   ]
  },
  {
   "cell_type": "markdown",
   "metadata": {
    "slideshow": {
     "slide_type": "subslide"
    }
   },
   "source": [
    "O código é escrito na lingagem Python e efetua uma operação aritmética básica. Poderíamos também executar um comando Python diretamente."
   ]
  },
  {
   "cell_type": "code",
   "execution_count": 2,
   "metadata": {
    "slideshow": {
     "slide_type": "fragment"
    }
   },
   "outputs": [
    {
     "name": "stdout",
     "output_type": "stream",
     "text": [
      "Olá Mundo\n"
     ]
    }
   ],
   "source": [
    "print(\"Olá Mundo\")"
   ]
  },
  {
   "cell_type": "markdown",
   "metadata": {
    "slideshow": {
     "slide_type": "subslide"
    }
   },
   "source": [
    "## Estados do notebook\n",
    "\n",
    "O notebook pode ficar em dois estados\n",
    "\n",
    "* Edição (caixa verde) Tecla: ENTER\n",
    "* Comando (caixa azul) Tecla: ESC"
   ]
  },
  {
   "cell_type": "markdown",
   "metadata": {
    "slideshow": {
     "slide_type": "skip"
    }
   },
   "source": [
    "No modo de edição as setas e teclas manipulam o conteúdo da célula. No modo de comando as setas movem entre células e as outras teclas representam comandos."
   ]
  },
  {
   "cell_type": "markdown",
   "metadata": {
    "slideshow": {
     "slide_type": "skip"
    }
   },
   "source": [
    "No dia de hoje, iremos aprender Python em conjunto com a manipulação dos **notebooks**."
   ]
  },
  {
   "cell_type": "markdown",
   "metadata": {
    "slideshow": {
     "slide_type": "subslide"
    }
   },
   "source": [
    "### Praticando"
   ]
  },
  {
   "cell_type": "code",
   "execution_count": null,
   "metadata": {},
   "outputs": [],
   "source": []
  },
  {
   "cell_type": "markdown",
   "metadata": {
    "slideshow": {
     "slide_type": "slide"
    }
   },
   "source": [
    "## Variáveis\n",
    "\n"
   ]
  },
  {
   "cell_type": "markdown",
   "metadata": {
    "slideshow": {
     "slide_type": "skip"
    }
   },
   "source": []
  }
 ],
 "metadata": {
  "celltoolbar": "Slideshow",
  "kernelspec": {
   "display_name": "Python 3",
   "language": "python",
   "name": "python3"
  },
  "language_info": {
   "codemirror_mode": {
    "name": "ipython",
    "version": 3
   },
   "file_extension": ".py",
   "mimetype": "text/x-python",
   "name": "python",
   "nbconvert_exporter": "python",
   "pygments_lexer": "ipython3",
   "version": "3.7.2+"
  }
 },
 "nbformat": 4,
 "nbformat_minor": 2
}
