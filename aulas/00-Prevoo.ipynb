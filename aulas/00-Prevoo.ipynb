{
 "cells": [
  {
   "cell_type": "markdown",
   "metadata": {
    "slideshow": {
     "slide_type": "slide"
    }
   },
   "source": [
    "# Introdução a Computação Científica com Python\n",
    "\n",
    "## O que vamos aprender?\n",
    "\n",
    "* computações simples.\n",
    "* criação de gráficos.\n",
    "* inserção dos gráficos em um artigo."
   ]
  },
  {
   "cell_type": "markdown",
   "metadata": {},
   "source": [
    "## Quem sou eu?\n",
    "\n",
    "* Igor Morgado <morgado.igor@gmail.com>"
   ]
  },
  {
   "cell_type": "markdown",
   "metadata": {
    "slideshow": {
     "slide_type": "slide"
    }
   },
   "source": [
    "# Por que Python?"
   ]
  },
  {
   "cell_type": "markdown",
   "metadata": {
    "slideshow": {
     "slide_type": "subslide"
    }
   },
   "source": [
    "### *\"Python é a segunda melhor linguagem para qualquer coisa\"*\n",
    "\n",
    "### -- Autor Desconhecido"
   ]
  },
  {
   "cell_type": "markdown",
   "metadata": {
    "slideshow": {
     "slide_type": "subslide"
    }
   },
   "source": [
    "## Alternativas\n",
    "\n",
    "\n",
    "| Característica    | C | C++ | Java | Fortran | Julia | R | Octave | Matlab | **Python** |\n",
    "| ------------------|:-:|:---:|:----:|:-------:|:-----:|:-:|:------:|:------:|:----------:|\n",
    "| Performance       | Y | Y   | Y    | Y       | Y     | N | N      | N      | N*         |\n",
    "| Comp. Numérica    | N | N   | N    | Y       | Y     | Y | Y      | Y      | Y          |\n",
    "| Comp. Simbólica   | N | N   | N    | N       | N     | N | Y      | Y      | Y          |\n",
    "| Framework Web     | N | N   | Y    | N       | N     | N | N      | N      | Y          |\n",
    "| Integração S.O.   | Y | Y   | N    | N       | N     | N | N      | N      | Y          |\n",
    "| Vasta Biblioteca  | Y | Y   | Y    | N       | N     | N | N      | N      | Y          |\n"
   ]
  },
  {
   "cell_type": "markdown",
   "metadata": {
    "slideshow": {
     "slide_type": "slide"
    }
   },
   "source": [
    "# Pacote Científico SciPy\n",
    "\n",
    "* Numpy\n",
    "\n",
    "* Sympy\n",
    "\n",
    "* Matplotlib\n",
    "\n",
    "* Pandas\n",
    "\n",
    "* iPython\n"
   ]
  },
  {
   "cell_type": "markdown",
   "metadata": {
    "slideshow": {
     "slide_type": "subslide"
    }
   },
   "source": [
    "# Pacote científico SciPy\n",
    "\n",
    "* **Numpy**\n",
    "\n",
    "* Sympy\n",
    "\n",
    "* **Matplotlib**\n",
    "\n",
    "* Pandas\n",
    "\n",
    "* **iPython**"
   ]
  },
  {
   "cell_type": "markdown",
   "metadata": {
    "slideshow": {
     "slide_type": "subslide"
    }
   },
   "source": [
    "# Outros pacotes Python\n",
    "\n",
    "* Scikit-Learn / Tensorflow / NLTK\n",
    "* OpenCV / Pil\n",
    "* Twisted / Flask\n",
    "* BeautifulSoup / requests\n",
    "* pyGTK / pyQT"
   ]
  },
  {
   "cell_type": "markdown",
   "metadata": {
    "slideshow": {
     "slide_type": "slide"
    }
   },
   "source": [
    "# Conteúdo do Curso\n",
    "\n",
    "## Aula 1\n",
    "\n",
    "* Obtendo o Python\n",
    "* Acessando o Jupyter Notebook\n",
    "* Estrutura básica da linguagem Python\n",
    "* Manipulando cadeias\n",
    "* Visualizando dados unidimensionais\n",
    "* Condicionais"
   ]
  },
  {
   "cell_type": "markdown",
   "metadata": {
    "slideshow": {
     "slide_type": "subslide"
    }
   },
   "source": [
    "# Conteúdo do Curso\n",
    "\n",
    "## Aula 2\n",
    "\n",
    "* Definindo funções puras\n",
    "* Manipulando e visualizando matrizes\n",
    "* Laços temporais e espaciais\n",
    "* Operando com submatrizes\n",
    "* Analizando performance"
   ]
  },
  {
   "cell_type": "markdown",
   "metadata": {
    "slideshow": {
     "slide_type": "subslide"
    }
   },
   "source": [
    "# Conteúdo do Curso\n",
    "\n",
    "## Aula 3\n",
    "\n",
    "* Operações de disco com dados numéricos\n",
    "* Anatomia de um gráfico\n",
    "* Outros gráficos (scatter, imagem, barra, histograma)\n",
    "* Embelezando o gráfico\n",
    "* Exportando para um artigo\n",
    "* Códigos Python fora do Notebook"
   ]
  },
  {
   "cell_type": "markdown",
   "metadata": {
    "slideshow": {
     "slide_type": "slide"
    }
   },
   "source": [
    "# Iniciando o ambiente do curso:"
   ]
  },
  {
   "cell_type": "markdown",
   "metadata": {
    "slideshow": {
     "slide_type": "fragment"
    }
   },
   "source": [
    "1. Abra um terminal"
   ]
  },
  {
   "cell_type": "markdown",
   "metadata": {
    "slideshow": {
     "slide_type": "fragment"
    }
   },
   "source": [
    "2. Clone o repositório do curso\n",
    "\n",
    "```git clone https://github.com/igormorgado/introducaopython```"
   ]
  },
  {
   "cell_type": "markdown",
   "metadata": {
    "slideshow": {
     "slide_type": "fragment"
    }
   },
   "source": [
    "3. Entre no diretório do curso\n",
    "\n",
    "```cd introducaopython```"
   ]
  },
  {
   "cell_type": "markdown",
   "metadata": {
    "slideshow": {
     "slide_type": "fragment"
    }
   },
   "source": [
    "4. Execute o teste de ambiente:\n",
    "\n",
    "```bash ./testenv.sh```"
   ]
  },
  {
   "cell_type": "markdown",
   "metadata": {
    "slideshow": {
     "slide_type": "slide"
    }
   },
   "source": [
    "# E ai?"
   ]
  },
  {
   "cell_type": "markdown",
   "metadata": {
    "slideshow": {
     "slide_type": "fragment"
    }
   },
   "source": [
    "<tr>\n",
    "    <td>\n",
    "        <img src=\"imagens/rage_meme_rage.png\" width=\"100%\">\n",
    "    </td>\n",
    "    <td>\n",
    "        OU\n",
    "    </td>\n",
    "    <td>\n",
    "    <img src=\"imagens/rage_meme_thumbs_up.png\" width=\"85%\">\n",
    "    </td>\n",
    "</tr>"
   ]
  },
  {
   "cell_type": "markdown",
   "metadata": {
    "slideshow": {
     "slide_type": "slide"
    }
   },
   "source": [
    "# Iniciando o Notebook\n",
    "\n",
    "1. Para comecar, dentro do diretorio **introducaopython** ative seu ambiente:\n",
    "\n",
    "\t```source venv/bin/activate```\n",
    "\n",
    "\n",
    "2. E acesse as aulas\n",
    "\n",
    "\t```jupyter-notebook aulas```\n"
   ]
  }
 ],
 "metadata": {
  "kernelspec": {
   "display_name": "Python 3",
   "language": "python",
   "name": "python3"
  },
  "language_info": {
   "codemirror_mode": {
    "name": "ipython",
    "version": 3
   },
   "file_extension": ".py",
   "mimetype": "text/x-python",
   "name": "python",
   "nbconvert_exporter": "python",
   "pygments_lexer": "ipython3",
   "version": "3.7.3rc1"
  }
 },
 "nbformat": 4,
 "nbformat_minor": 2
}
