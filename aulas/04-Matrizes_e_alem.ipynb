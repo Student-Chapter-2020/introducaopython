{
 "cells": [
  {
   "cell_type": "markdown",
   "metadata": {},
   "source": [
    "\n",
    "    Definindo funções puras\n",
    "    Manipulando e visualizando matrizes\n",
    "    diagonal de matrizes, matrizes de diagonais\n",
    "    matrizes identidade\n",
    "    arrays randomicos\n",
    "    shape\n",
    "    flatten/ravel\n",
    "    arange\n",
    "    linspace\n",
    "    fromfile\n",
    "    loadtxt\n",
    "    eye\n",
    "    diag\n",
    "    reshape\n",
    "    Laços temporais e espaciais\n",
    "    Operando com submatrizes\n",
    "    Analizando performance\n",
    "\n",
    "    fancy indexing\n",
    "    ufunc\n",
    "    broadcasting\n",
    "    scatterplot\n",
    "    funcoes e valores de retorno\n",
    "    for loop\n",
    "    funcoes bidimensionais\n",
    "    multiplicacao matricial\n",
    "    "
   ]
  }
 ],
 "metadata": {
  "kernelspec": {
   "display_name": "Python 3",
   "language": "python",
   "name": "python3"
  },
  "language_info": {
   "codemirror_mode": {
    "name": "ipython",
    "version": 3
   },
   "file_extension": ".py",
   "mimetype": "text/x-python",
   "name": "python",
   "nbconvert_exporter": "python",
   "pygments_lexer": "ipython3",
   "version": "3.7.3rc1"
  }
 },
 "nbformat": 4,
 "nbformat_minor": 2
}
