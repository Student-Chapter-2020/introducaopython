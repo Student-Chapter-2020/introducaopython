{
 "cells": [
  {
   "cell_type": "markdown",
   "metadata": {
    "slideshow": {
     "slide_type": "slide"
    }
   },
   "source": [
    "# Linguagem Python\n",
    "\n",
    "Python é uma linguagem interpretada, de alto nível e propósito geral. Possui gerenciamento de memória automático, e tipagem dinâmica. Suporta diferentes paradigmas de programação como imperativa, orientada a objetos, funcional e procedural.\n",
    "\n",
    "Nosso foco será uma abordagem **imperativa**, **procedural** e **estruturada**."
   ]
  },
  {
   "cell_type": "markdown",
   "metadata": {
    "slideshow": {
     "slide_type": "slide"
    }
   },
   "source": [
    "# The Zen of Python\n",
    "\n",
    "\n",
    "*Beautiful is better than ugly.*\n",
    "\n",
    "*Explicit is better than implicit.*\n",
    "\n",
    "*Simple is better than complex.*\n",
    "\n",
    "*Complex is better than complicated.*\n",
    "\n",
    "*Flat is better than nested.*\n",
    "\n",
    "*Readability counts.*\n"
   ]
  },
  {
   "cell_type": "markdown",
   "metadata": {
    "slideshow": {
     "slide_type": "slide"
    }
   },
   "source": [
    "# Versões de Python\n",
    "\n",
    "* Python 2.7 (descontinuada em 2020)\n",
    "* Python 3.6 (disponível na maioria das distribuições)\n",
    "* Python 3.7.2 (versão estável atual)"
   ]
  },
  {
   "cell_type": "markdown",
   "metadata": {
    "slideshow": {
     "slide_type": "skip"
    }
   },
   "source": [
    "A maioria dos sistemas operacionais Linux da atualidade ainda utilizam o *Python2* como padrão, desta forma o binario `python` normalmente executa a versão antiga. O uso da versão 2 do Python será descontinuado em 2020. Qualquer referência que recomende o uso desta versão deve ser considerada não confiável.\n",
    "\n",
    "A dependência ao Python 2 na maioria das versões de Linux se dá principalmente pelo grande conjunto de ferramentas que foram desenvolvidas em Python 2 ao longo dos últimos 15 anos. Na atualidade a grande parte dos programas já usa a nova versão, mas ainda não é possível abandonar a versão antiga. Ainda assim, novos aplicativos devem **SEMPRE** ser escritos com suporte a nova versão do Python em mente.\n",
    "\n",
    "Por outro lado no ambiente Windows, como nenhuma ferramenta crítica é baseada em Python o uso da versão 2 se faz totalmente desnecessário."
   ]
  },
  {
   "cell_type": "markdown",
   "metadata": {
    "slideshow": {
     "slide_type": "subslide"
    }
   },
   "source": [
    "![](imagens/python2or3.jpg)"
   ]
  },
  {
   "cell_type": "markdown",
   "metadata": {
    "slideshow": {
     "slide_type": "slide"
    }
   },
   "source": [
    "# \n",
    "* Variáveis\n",
    "\n",
    "* Números\n",
    "\n",
    "* Strings (concatenar), métodos comuns\n",
    "\n",
    "* Condicionais\n",
    "\n",
    "* Indices\n",
    "\n",
    "* Listas (concatenar), métodos comuns\n",
    "\n",
    "* Formatando variaveis para impressao\n",
    "\n",
    "* Tipos de dados\n",
    "\n",
    "* while (fibbonacci)\n",
    "\n",
    "a, b = 0, 1\n",
    "while a < 10:\n",
    "     print(a)\n",
    "     a, b = b, a+b\n",
    "     \n",
    "* Exerc (os 30 primeiros numeros de fibonacci em uma lista)\n",
    "\n",
    "* O array numpy\n",
    "\n",
    "* Aritimética com array numpy\n",
    "\n",
    "* Exercicio (encontrando diferencas progressivas de primera ordem), encontrando os pontos médios.\n",
    "\n",
    "* Espaco linear\n",
    "\n",
    "* visualizando o espaco linear"
   ]
  },
  {
   "cell_type": "code",
   "execution_count": 1,
   "metadata": {},
   "outputs": [],
   "source": [
    "# %load .resps/fibo.py\n",
    "a, b, i = 0, 1, 2\n",
    "fibo = [a, b]\n",
    "while i < 100:\n",
    "    i = i + 1\n",
    "    a, b = b, a+b\n",
    "    fibo.append(b)\n"
   ]
  },
  {
   "cell_type": "code",
   "execution_count": 2,
   "metadata": {},
   "outputs": [],
   "source": [
    "import numpy as np\n",
    "\n",
    "x = np.array(fibo)"
   ]
  },
  {
   "cell_type": "code",
   "execution_count": 3,
   "metadata": {},
   "outputs": [],
   "source": [
    "# %load .resps/difp.py\n",
    "# %%timeit\n",
    "i = 0\n",
    "r = np.zeros(len(x)-1)\n",
    "while i < len(x)-1:\n",
    "    r[i] = x[i+1] - x[i]\n",
    "    i = i + 1\n"
   ]
  },
  {
   "cell_type": "code",
   "execution_count": 4,
   "metadata": {},
   "outputs": [],
   "source": [
    "import matplotlib.pyplot as plt"
   ]
  },
  {
   "cell_type": "code",
   "execution_count": null,
   "metadata": {},
   "outputs": [],
   "source": []
  },
  {
   "cell_type": "code",
   "execution_count": 5,
   "metadata": {},
   "outputs": [
    {
     "data": {
      "text/plain": [
       "[<matplotlib.lines.Line2D at 0x7f85b21cc320>]"
      ]
     },
     "execution_count": 5,
     "metadata": {},
     "output_type": "execute_result"
    },
    {
     "data": {
      "image/png": "[encoded data removed]",
      "text/plain": [
       "<Figure size 432x288 with 1 Axes>"
      ]
     },
     "metadata": {
      "needs_background": "light"
     },
     "output_type": "display_data"
    }
   ],
   "source": [
    "plt.plot(fibo)"
   ]
  },
  {
   "cell_type": "code",
   "execution_count": null,
   "metadata": {},
   "outputs": [],
   "source": []
  }
 ],
 "metadata": {
  "celltoolbar": "Slideshow",
  "kernelspec": {
   "display_name": "Python 3",
   "language": "python",
   "name": "python3"
  },
  "language_info": {
   "codemirror_mode": {
    "name": "ipython",
    "version": 3
   },
   "file_extension": ".py",
   "mimetype": "text/x-python",
   "name": "python",
   "nbconvert_exporter": "python",
   "pygments_lexer": "ipython3",
   "version": "3.7.3rc1"
  }
 },
 "nbformat": 4,
 "nbformat_minor": 2
}
