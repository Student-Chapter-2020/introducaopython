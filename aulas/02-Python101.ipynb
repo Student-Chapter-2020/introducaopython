{
 "cells": [
  {
   "cell_type": "code",
   "execution_count": 1,
   "metadata": {
    "slideshow": {
     "slide_type": "skip"
    }
   },
   "outputs": [],
   "source": [
    "import numpy as np\n",
    "np.set_printoptions(suppress=True)"
   ]
  },
  {
   "cell_type": "markdown",
   "metadata": {
    "slideshow": {
     "slide_type": "slide"
    }
   },
   "source": [
    "# Linguagem Python\n",
    "\n",
    "Python é uma linguagem interpretada, de alto nível e propósito geral. Possui gerenciamento de memória automático, e tipagem dinâmica. Suporta diferentes paradigmas de programação como imperativa, orientada a objetos, funcional e procedural.\n",
    "\n",
    "Nosso foco será uma abordagem **imperativa**, **procedural** e **estruturada**."
   ]
  },
  {
   "cell_type": "markdown",
   "metadata": {
    "slideshow": {
     "slide_type": "slide"
    }
   },
   "source": [
    "# The Zen of Python\n",
    "\n",
    "\n",
    "*Beautiful is better than ugly.*\n",
    "\n",
    "*Explicit is better than implicit.*\n",
    "\n",
    "*Simple is better than complex.*\n",
    "\n",
    "*Complex is better than complicated.*\n",
    "\n",
    "*Flat is better than nested.*\n",
    "\n",
    "*Readability counts.*\n"
   ]
  },
  {
   "cell_type": "markdown",
   "metadata": {
    "slideshow": {
     "slide_type": "slide"
    }
   },
   "source": [
    "# Versões de Python\n",
    "\n",
    "* Python 2.7 (descontinuada em 2020)\n",
    "* Python 3.6 (disponível na maioria das distribuições)\n",
    "* Python 3.7.2 (versão estável atual)"
   ]
  },
  {
   "cell_type": "markdown",
   "metadata": {
    "slideshow": {
     "slide_type": "skip"
    }
   },
   "source": [
    "A maioria dos sistemas operacionais Linux da atualidade ainda utilizam o *Python2* como padrão, desta forma o binario `python` normalmente executa a versão antiga. O uso da versão 2 do Python será descontinuado em 2020. Qualquer referência que recomende o uso desta versão deve ser considerada não confiável.\n",
    "\n",
    "A dependência ao Python 2 na maioria das versões de Linux se dá principalmente pelo grande conjunto de ferramentas que foram desenvolvidas em Python 2 ao longo dos últimos 15 anos. Na atualidade a grande parte dos programas já usa a nova versão, mas ainda não é possível abandonar a versão antiga. Ainda assim, novos aplicativos devem **SEMPRE** ser escritos com suporte a nova versão do Python em mente.\n",
    "\n",
    "Por outro lado no ambiente Windows, como nenhuma ferramenta crítica é baseada em Python o uso da versão 2 se faz totalmente desnecessário."
   ]
  },
  {
   "cell_type": "markdown",
   "metadata": {
    "slideshow": {
     "slide_type": "subslide"
    }
   },
   "source": [
    "![](imagens/python2or3.jpg)"
   ]
  },
  {
   "cell_type": "markdown",
   "metadata": {
    "slideshow": {
     "slide_type": "slide"
    }
   },
   "source": [
    "# Variáveis\n",
    "\n",
    "* Tipagem dinâmica\n",
    "* Por referência\n",
    "* Alocação de memória automática\n",
    "* Coleta de lixo"
   ]
  },
  {
   "cell_type": "markdown",
   "metadata": {
    "slideshow": {
     "slide_type": "skip"
    }
   },
   "source": [
    "Como já mencionado, Python é uma linguagem com *tipagem dinâmica*, isto significa que não é necessário declarar o tipo (numérico, texto, fluxo) do valor armazenado. A abordagem do Python define que o *tipo*, relaciona-se ao dado e não a variável, que atua somente como uma etiqueta (leia-se ponteiro). "
   ]
  },
  {
   "cell_type": "markdown",
   "metadata": {
    "slideshow": {
     "slide_type": "subslide"
    }
   },
   "source": [
    "Por exemplo:"
   ]
  },
  {
   "cell_type": "code",
   "execution_count": 2,
   "metadata": {
    "slideshow": {
     "slide_type": "fragment"
    }
   },
   "outputs": [],
   "source": [
    "a = 3\n",
    "b = 5"
   ]
  },
  {
   "cell_type": "markdown",
   "metadata": {
    "slideshow": {
     "slide_type": "fragment"
    }
   },
   "source": [
    "Operações podem ser realizadas com o literal ou com variáveis como:"
   ]
  },
  {
   "cell_type": "code",
   "execution_count": 3,
   "metadata": {
    "slideshow": {
     "slide_type": "fragment"
    }
   },
   "outputs": [
    {
     "data": {
      "text/plain": [
       "8"
      ]
     },
     "execution_count": 3,
     "metadata": {},
     "output_type": "execute_result"
    }
   ],
   "source": [
    "3 + 5"
   ]
  },
  {
   "cell_type": "code",
   "execution_count": 4,
   "metadata": {
    "slideshow": {
     "slide_type": "fragment"
    }
   },
   "outputs": [
    {
     "data": {
      "text/plain": [
       "8"
      ]
     },
     "execution_count": 4,
     "metadata": {},
     "output_type": "execute_result"
    }
   ],
   "source": [
    "a + b"
   ]
  },
  {
   "cell_type": "markdown",
   "metadata": {
    "slideshow": {
     "slide_type": "subslide"
    }
   },
   "source": [
    "## Tipos numéricos\n",
    "\n",
    "Variáveis podem conter diferentes tipos de valores (inteiros, flutuantes ou *complexos*)"
   ]
  },
  {
   "cell_type": "code",
   "execution_count": 5,
   "metadata": {
    "slideshow": {
     "slide_type": "fragment"
    }
   },
   "outputs": [],
   "source": [
    "pi = 3.141592653589793238462643383279502884197169399375105820974944592307816406286\n",
    "\n",
    "i = 1j"
   ]
  },
  {
   "cell_type": "markdown",
   "metadata": {
    "slideshow": {
     "slide_type": "fragment"
    }
   },
   "source": [
    "É possível realizar operações algébricas entre diferentes tipos"
   ]
  },
  {
   "cell_type": "code",
   "execution_count": 6,
   "metadata": {
    "slideshow": {
     "slide_type": "fragment"
    }
   },
   "outputs": [
    {
     "data": {
      "text/plain": [
       "(6.141592653589793+1j)"
      ]
     },
     "execution_count": 6,
     "metadata": {},
     "output_type": "execute_result"
    }
   ],
   "source": [
    "resultado = a + pi + i\n",
    "resultado"
   ]
  },
  {
   "cell_type": "markdown",
   "metadata": {
    "slideshow": {
     "slide_type": "fragment"
    }
   },
   "source": [
    "Note que o resultado é um valor complexo (o maior conjunto)."
   ]
  },
  {
   "cell_type": "markdown",
   "metadata": {
    "slideshow": {
     "slide_type": "subslide"
    }
   },
   "source": [
    "## Métodos para tipos numéricos"
   ]
  },
  {
   "cell_type": "markdown",
   "metadata": {
    "slideshow": {
     "slide_type": "skip"
    }
   },
   "source": [
    "Em Python é possível realizar operações específicas a cada tipo de dado. Chamamos estas operações de métodos.\n",
    "\n",
    "Diferentes tipos de dados possuem métodos adequados as suas características, por exemplo, com nosso resultado complexo podemos extrair suas partes reais e imaginárias"
   ]
  },
  {
   "cell_type": "code",
   "execution_count": 7,
   "metadata": {
    "slideshow": {
     "slide_type": "fragment"
    }
   },
   "outputs": [
    {
     "data": {
      "text/plain": [
       "6.141592653589793"
      ]
     },
     "execution_count": 7,
     "metadata": {},
     "output_type": "execute_result"
    }
   ],
   "source": [
    "resultado.real"
   ]
  },
  {
   "cell_type": "code",
   "execution_count": 8,
   "metadata": {
    "slideshow": {
     "slide_type": "fragment"
    }
   },
   "outputs": [
    {
     "data": {
      "text/plain": [
       "1.0"
      ]
     },
     "execution_count": 8,
     "metadata": {},
     "output_type": "execute_result"
    }
   ],
   "source": [
    "resultado.imag"
   ]
  },
  {
   "cell_type": "markdown",
   "metadata": {
    "slideshow": {
     "slide_type": "slide"
    }
   },
   "source": [
    "## Operações Aritméticas"
   ]
  },
  {
   "cell_type": "markdown",
   "metadata": {
    "slideshow": {
     "slide_type": "skip"
    }
   },
   "source": [
    "Python utiliza os operadores tradicionais para realizar operações aritméticas como $+$, $-$, $*$ e $/$ para divisão e $**$ para potência.\n",
    "\n",
    "Os parênteses (), são utilizados para priorizar uma operação (análogo a matemática convencional). Por outro lado os operadores [] {}, que definem níveis da priorização dos operadores não existem (em Python eles tem outra utilizade). Use os parentêses aninhados no lugar como\n",
    "\n",
    "```12/(1+(2*(3+4)))```\n",
    "\n",
    "tem como equivalente matemático\n",
    "\n",
    "$$\\frac{12}{1+\\left[ 2 \\cdot ( 3 + 5 ) \\right]}$$"
   ]
  },
  {
   "cell_type": "markdown",
   "metadata": {},
   "source": [
    "| Operação  | Significado |\n",
    "|-----------|-------------|\n",
    "| ()        | Executar operação primeiro |\n",
    "| abs(x)     | Valor absoluto de $x$ |\n",
    "| **        | Potência |\n",
    "| *, /, //, %  | Multiplicação, Divisão, Divisão inteira, Divisão modular |\n",
    "| +, -      | Soma, Subtração |\n"
   ]
  },
  {
   "cell_type": "markdown",
   "metadata": {
    "slideshow": {
     "slide_type": "subslide"
    }
   },
   "source": [
    "## Tipo de dados"
   ]
  },
  {
   "cell_type": "markdown",
   "metadata": {
    "slideshow": {
     "slide_type": "skip"
    }
   },
   "source": [
    "Podemos descobrir o tipo do dado utilizando a *keyword* (palavra chave)\n",
    "\n",
    "```type()```\n",
    "\n",
    "Como em:"
   ]
  },
  {
   "cell_type": "code",
   "execution_count": 9,
   "metadata": {
    "slideshow": {
     "slide_type": "fragment"
    }
   },
   "outputs": [
    {
     "data": {
      "text/plain": [
       "int"
      ]
     },
     "execution_count": 9,
     "metadata": {},
     "output_type": "execute_result"
    }
   ],
   "source": [
    "type(a)"
   ]
  },
  {
   "cell_type": "code",
   "execution_count": 10,
   "metadata": {
    "slideshow": {
     "slide_type": "fragment"
    }
   },
   "outputs": [
    {
     "data": {
      "text/plain": [
       "float"
      ]
     },
     "execution_count": 10,
     "metadata": {},
     "output_type": "execute_result"
    }
   ],
   "source": [
    "type(pi)"
   ]
  },
  {
   "cell_type": "code",
   "execution_count": 11,
   "metadata": {
    "slideshow": {
     "slide_type": "fragment"
    }
   },
   "outputs": [
    {
     "data": {
      "text/plain": [
       "float"
      ]
     },
     "execution_count": 11,
     "metadata": {},
     "output_type": "execute_result"
    }
   ],
   "source": [
    "type(resultado.real)"
   ]
  },
  {
   "cell_type": "code",
   "execution_count": 12,
   "metadata": {
    "slideshow": {
     "slide_type": "fragment"
    }
   },
   "outputs": [
    {
     "data": {
      "text/plain": [
       "complex"
      ]
     },
     "execution_count": 12,
     "metadata": {},
     "output_type": "execute_result"
    }
   ],
   "source": [
    "type(resultado)"
   ]
  },
  {
   "cell_type": "markdown",
   "metadata": {
    "slideshow": {
     "slide_type": "slide"
    }
   },
   "source": [
    "# Exercício: raízes de um polinômio de grau dois\n",
    "\n",
    "Dada a equação polinomial\n",
    "\n",
    "\\begin{equation}\n",
    "ax^2 + bx + c = 0,\n",
    "\\end{equation}\n",
    "\n",
    "encontar as raízes $x_1$ e $x_2$ que podem ser obtidas através da fórmula\n",
    "\n",
    "\\begin{equation}\\label{delta}\n",
    "\\Delta = b^2 - 4 a c\n",
    "\\end{equation}\n",
    "e\n",
    "\\begin{equation}\\label{raizes}\n",
    "x = \\frac{-b \\pm \\sqrt{\\Delta}}{2a}.\n",
    "\\end{equation}"
   ]
  },
  {
   "cell_type": "markdown",
   "metadata": {
    "slideshow": {
     "slide_type": "skip"
    }
   },
   "source": [
    "Vamos apresentar uma passo a passo para resolver este problema, tente preencher as lacunas. (e não se acostume)"
   ]
  },
  {
   "cell_type": "markdown",
   "metadata": {
    "slideshow": {
     "slide_type": "skip"
    }
   },
   "source": [
    "1. Declare as variáveis Python `a`, `b` e `c`, que irão armazenar os coeficientes polinomiais. Digite `SHIFT + ENTER` para executar os comandos."
   ]
  },
  {
   "cell_type": "code",
   "execution_count": 13,
   "metadata": {
    "slideshow": {
     "slide_type": "skip"
    }
   },
   "outputs": [],
   "source": [
    "# Faça aqui."
   ]
  },
  {
   "cell_type": "markdown",
   "metadata": {
    "slideshow": {
     "slide_type": "skip"
    }
   },
   "source": [
    "2. Declare uma variavel `delta` que armazena a operação da equação $\\Delta$. "
   ]
  },
  {
   "cell_type": "code",
   "execution_count": 14,
   "metadata": {
    "slideshow": {
     "slide_type": "skip"
    }
   },
   "outputs": [],
   "source": [
    "# Faça aqui"
   ]
  },
  {
   "cell_type": "markdown",
   "metadata": {
    "slideshow": {
     "slide_type": "skip"
    }
   },
   "source": [
    "3. Declare uma variavel x1 que recebe a forma positiva da equação $x$. Dica: Usar a potência de $\\frac{1}{2}$ pode ser utilizado como raiz quadrada. Exemplo:\n",
    "\n",
    "\\begin{equation}\n",
    "4^{\\frac{1}{2}} = 2\n",
    "\\end{equation}"
   ]
  },
  {
   "cell_type": "code",
   "execution_count": 15,
   "metadata": {
    "slideshow": {
     "slide_type": "skip"
    }
   },
   "outputs": [],
   "source": [
    "# Calcule e armazene x1 aqui"
   ]
  },
  {
   "cell_type": "code",
   "execution_count": 16,
   "metadata": {
    "slideshow": {
     "slide_type": "skip"
    }
   },
   "outputs": [],
   "source": [
    "# Calcule e armazene x2 aqui"
   ]
  },
  {
   "cell_type": "markdown",
   "metadata": {
    "slideshow": {
     "slide_type": "skip"
    }
   },
   "source": [
    "Descomente abaixo (retirar o #) para exibir as raizes encontradas e execute a linha com `SHIFT-ENTER`\n",
    "\n",
    "Por exemplo se utilizar $a = 3, b = 5, c = 2$, deve-se encontrar as raízes $x_1 = -\\frac{2}{3} \\approx -0,66$ e $x_2 = -1$"
   ]
  },
  {
   "cell_type": "code",
   "execution_count": 17,
   "metadata": {
    "slideshow": {
     "slide_type": "skip"
    }
   },
   "outputs": [],
   "source": [
    "#x1, x2"
   ]
  },
  {
   "cell_type": "markdown",
   "metadata": {
    "slideshow": {
     "slide_type": "skip"
    }
   },
   "source": [
    "Abaixo você pode ver a resposta, recomenda-se não descomentar até tentar bastante. Aprendemos mais com os erros do que com os acertos."
   ]
  },
  {
   "cell_type": "code",
   "execution_count": null,
   "metadata": {
    "slideshow": {
     "slide_type": "skip"
    }
   },
   "outputs": [],
   "source": [
    "# RESPOSTA\n",
    "# %load .resps/seggrau.py"
   ]
  },
  {
   "cell_type": "markdown",
   "metadata": {
    "slideshow": {
     "slide_type": "slide"
    }
   },
   "source": [
    "## Strings"
   ]
  },
  {
   "cell_type": "markdown",
   "metadata": {
    "slideshow": {
     "slide_type": "-"
    }
   },
   "source": [
    "Strings (em português cadeias), são normalmente utilizados para fazer referência a uma sequência de caracteres alfanuméricos. O uso mais comun é armazenar textos como *nomes*, *etiquetas*, *endereços*. "
   ]
  },
  {
   "cell_type": "markdown",
   "metadata": {
    "slideshow": {
     "slide_type": "skip"
    }
   },
   "source": [
    "É importante notar que números armazenados como *strings* perdem seu sentido numérico e passam a ser considerados como parte de um texto, por isso não podem ser utilizados em operações algébricas."
   ]
  },
  {
   "cell_type": "code",
   "execution_count": 53,
   "metadata": {
    "slideshow": {
     "slide_type": "fragment"
    }
   },
   "outputs": [],
   "source": [
    "nome = \"Igor Morgado\"\n",
    "universidade = \"Universidade do Estado do Rio de Janeiro\""
   ]
  },
  {
   "cell_type": "code",
   "execution_count": 54,
   "metadata": {
    "slideshow": {
     "slide_type": "fragment"
    }
   },
   "outputs": [
    {
     "data": {
      "text/plain": [
       "'Universidade do Estado do Rio de Janeiro'"
      ]
     },
     "execution_count": 54,
     "metadata": {},
     "output_type": "execute_result"
    }
   ],
   "source": [
    "universidade"
   ]
  },
  {
   "cell_type": "code",
   "execution_count": 55,
   "metadata": {
    "slideshow": {
     "slide_type": "fragment"
    }
   },
   "outputs": [
    {
     "data": {
      "text/plain": [
       "str"
      ]
     },
     "execution_count": 55,
     "metadata": {},
     "output_type": "execute_result"
    }
   ],
   "source": [
    "type(nome)"
   ]
  },
  {
   "cell_type": "markdown",
   "metadata": {
    "slideshow": {
     "slide_type": "subslide"
    }
   },
   "source": [
    "### Operações com strings"
   ]
  },
  {
   "cell_type": "markdown",
   "metadata": {
    "slideshow": {
     "slide_type": "skip"
    }
   },
   "source": [
    "É possível concatenar (podemos pensar como somar) strings utilizando o operador \"+\". O operador '*' permite repetir uma string um quantidade determinada de vezes.\n",
    "\n",
    "Lembre-se que a soma de números dentro de uma string não é possível, ao invés disso as strings são concatenadas."
   ]
  },
  {
   "cell_type": "code",
   "execution_count": 44,
   "metadata": {
    "slideshow": {
     "slide_type": "fragment"
    }
   },
   "outputs": [
    {
     "data": {
      "text/plain": [
       "'Igor Morgado estuda na UERJ'"
      ]
     },
     "execution_count": 44,
     "metadata": {},
     "output_type": "execute_result"
    }
   ],
   "source": [
    "nome + \" estuda na \" + universidade"
   ]
  },
  {
   "cell_type": "code",
   "execution_count": 45,
   "metadata": {
    "slideshow": {
     "slide_type": "fragment"
    }
   },
   "outputs": [
    {
     "data": {
      "text/plain": [
       "'Igor Morgado estuda na UERJ'"
      ]
     },
     "execution_count": 45,
     "metadata": {},
     "output_type": "execute_result"
    }
   ],
   "source": [
    "frase = nome + \" estuda na \" + universidade\n",
    "frase"
   ]
  },
  {
   "cell_type": "code",
   "execution_count": 46,
   "metadata": {
    "slideshow": {
     "slide_type": "fragment"
    }
   },
   "outputs": [
    {
     "data": {
      "text/plain": [
       "'NanNanNanNanNanNanNanNanNanNan Batman'"
      ]
     },
     "execution_count": 46,
     "metadata": {},
     "output_type": "execute_result"
    }
   ],
   "source": [
    "10 * 'Nan' + ' Batman'"
   ]
  },
  {
   "cell_type": "code",
   "execution_count": 50,
   "metadata": {
    "slideshow": {
     "slide_type": "fragment"
    }
   },
   "outputs": [
    {
     "data": {
      "text/plain": [
       "'1020'"
      ]
     },
     "execution_count": 50,
     "metadata": {},
     "output_type": "execute_result"
    }
   ],
   "source": [
    "a = \"10\"\n",
    "b = \"20\"\n",
    "a + b"
   ]
  },
  {
   "cell_type": "markdown",
   "metadata": {
    "slideshow": {
     "slide_type": "subslide"
    }
   },
   "source": [
    "### Índices e Fatias"
   ]
  },
  {
   "cell_type": "markdown",
   "metadata": {
    "slideshow": {
     "slide_type": "skip"
    }
   },
   "source": [
    "É possível acessar partes de uma string utilizando índices (*indexes*) e fatias (*slices*). Com isso, podemos selectionar um único caracter ou um grupo deles.\n",
    "\n",
    "Um índice pode ser acessado com\n",
    "\n",
    "`variavel[n]`\n",
    "\n",
    "onde `n` é a posição que deseja acessar (começando em 0).\n",
    "\n",
    "Podemos também acessar as fatias utilizando a notação:\n",
    "\n",
    "`variavel[a:b:inc]`\n",
    "\n",
    "Onde `a` é a posição inicial e `b` a posição final (não inclusa). Pode-se também fazer refererência a indexação reversa utilizando o sinal negativo ($-$). O terceiro valor `inc` é opcional e pode ser inclusive reverso (sinal negativo)"
   ]
  },
  {
   "cell_type": "code",
   "execution_count": 109,
   "metadata": {
    "slideshow": {
     "slide_type": "fragment"
    }
   },
   "outputs": [
    {
     "data": {
      "text/plain": [
       "('U', 'E', 'R', 'J')"
      ]
     },
     "execution_count": 109,
     "metadata": {},
     "output_type": "execute_result"
    }
   ],
   "source": [
    "universidade[0], universidade[16], universidade[26], universidade[33]"
   ]
  },
  {
   "cell_type": "code",
   "execution_count": 110,
   "metadata": {
    "slideshow": {
     "slide_type": "fragment"
    }
   },
   "outputs": [
    {
     "data": {
      "text/plain": [
       "'Igor'"
      ]
     },
     "execution_count": 110,
     "metadata": {},
     "output_type": "execute_result"
    }
   ],
   "source": [
    "nome[0:4]"
   ]
  },
  {
   "cell_type": "code",
   "execution_count": 111,
   "metadata": {
    "slideshow": {
     "slide_type": "fragment"
    }
   },
   "outputs": [
    {
     "data": {
      "text/plain": [
       "'de Janei'"
      ]
     },
     "execution_count": 111,
     "metadata": {},
     "output_type": "execute_result"
    }
   ],
   "source": [
    "universidade[-10:-2]"
   ]
  },
  {
   "cell_type": "code",
   "execution_count": 112,
   "metadata": {
    "slideshow": {
     "slide_type": "fragment"
    }
   },
   "outputs": [
    {
     "data": {
      "text/plain": [
       "'aein'"
      ]
     },
     "execution_count": 112,
     "metadata": {},
     "output_type": "execute_result"
    }
   ],
   "source": [
    "alfabeto = 'abcdefghijlmnopqrstuvxyz'\n",
    "alfabeto[0:15:4]"
   ]
  },
  {
   "cell_type": "code",
   "execution_count": 114,
   "metadata": {
    "slideshow": {
     "slide_type": "fragment"
    }
   },
   "outputs": [
    {
     "data": {
      "text/plain": [
       "'orienaJ ed oiR'"
      ]
     },
     "execution_count": 114,
     "metadata": {},
     "output_type": "execute_result"
    }
   ],
   "source": [
    "universidade[-1:-15:-1]"
   ]
  },
  {
   "cell_type": "markdown",
   "metadata": {
    "slideshow": {
     "slide_type": "subslide"
    }
   },
   "source": [
    "### Funções e métodos"
   ]
  },
  {
   "cell_type": "markdown",
   "metadata": {
    "slideshow": {
     "slide_type": "skip"
    }
   },
   "source": [
    "Assim como os tipos numéricos, as strings também possuem funções e métodos que podem ser utilizados. Abaixo existe alguns exemplos do que pode ser utilizado. Se estiver interessado veja outros [métodos](https://docs.python.org/3/library/stdtypes.html#string-methods) de strings."
   ]
  },
  {
   "cell_type": "code",
   "execution_count": 126,
   "metadata": {
    "slideshow": {
     "slide_type": "fragment"
    }
   },
   "outputs": [
    {
     "data": {
      "text/plain": [
       "'UNIVERSIDADE DO ESTADO DO RIO DE JANEIRO'"
      ]
     },
     "execution_count": 126,
     "metadata": {},
     "output_type": "execute_result"
    }
   ],
   "source": [
    "universidade.upper()"
   ]
  },
  {
   "cell_type": "code",
   "execution_count": 127,
   "metadata": {
    "slideshow": {
     "slide_type": "fragment"
    }
   },
   "outputs": [
    {
     "data": {
      "text/plain": [
       "'igor morgado'"
      ]
     },
     "execution_count": 127,
     "metadata": {},
     "output_type": "execute_result"
    }
   ],
   "source": [
    "nome.lower()"
   ]
  },
  {
   "cell_type": "code",
   "execution_count": 130,
   "metadata": {
    "slideshow": {
     "slide_type": "fragment"
    }
   },
   "outputs": [
    {
     "data": {
      "text/plain": [
       "3"
      ]
     },
     "execution_count": 130,
     "metadata": {},
     "output_type": "execute_result"
    }
   ],
   "source": [
    "nome.count('o')"
   ]
  },
  {
   "cell_type": "code",
   "execution_count": 129,
   "metadata": {
    "slideshow": {
     "slide_type": "fragment"
    }
   },
   "outputs": [
    {
     "data": {
      "text/plain": [
       "12"
      ]
     },
     "execution_count": 129,
     "metadata": {},
     "output_type": "execute_result"
    }
   ],
   "source": [
    "len(nome)"
   ]
  },
  {
   "cell_type": "markdown",
   "metadata": {
    "slideshow": {
     "slide_type": "subslide"
    }
   },
   "source": [
    "## Condicionais"
   ]
  },
  {
   "cell_type": "markdown",
   "metadata": {
    "slideshow": {
     "slide_type": "skip"
    }
   },
   "source": [
    "Operações condicionais são utilizadas para decidir o fluxo de um programa, normalmente são utilizados realizando comparações entre diferentes variáveis, caso a condição seja verdadeira, uma parte do código é executada, caso contrário outa parte do código é executada. Esta operação é uma das condições necessárias para que a lingaguem seja Turing Completa. Em Python os condicionais são as palavras chave `if, else` e `while` (este segundo veremos mais adiante)."
   ]
  },
  {
   "cell_type": "markdown",
   "metadata": {
    "slideshow": {
     "slide_type": "subslide"
    }
   },
   "source": [
    "\n",
    "## Listas"
   ]
  },
  {
   "cell_type": "markdown",
   "metadata": {
    "slideshow": {
     "slide_type": "skip"
    }
   },
   "source": [
    "* Listas (concatenar), métodos comuns\n",
    "\n",
    "* Condicionais\n",
    "\n",
    "\n",
    "* Formatando variaveis para impressao\n",
    "\n",
    "* while (fibbonacci)\n",
    "\n",
    "a, b = 0, 1\n",
    "while a < 10:\n",
    "     print(a)\n",
    "     a, b = b, a+b\n",
    "     \n",
    "* Exerc (os 30 primeiros numeros de fibonacci em uma lista)\n",
    "\n",
    "* O array numpy\n",
    "\n",
    "* Aritimética com array numpy\n",
    "\n",
    "* Exercicio (encontrando diferencas progressivas de primera ordem), encontrando os pontos médios.\n",
    "\n",
    "* Espaco linear\n",
    "\n",
    "* visualizando o espaco linear"
   ]
  },
  {
   "cell_type": "code",
   "execution_count": 19,
   "metadata": {
    "slideshow": {
     "slide_type": "skip"
    }
   },
   "outputs": [],
   "source": [
    "# %load .resps/fibo.py\n",
    "a, b, i = 0, 1, 2\n",
    "fibo = [a, b]\n",
    "while i < 100:\n",
    "    i = i + 1\n",
    "    a, b = b, a+b\n",
    "    fibo.append(b)\n"
   ]
  },
  {
   "cell_type": "code",
   "execution_count": 20,
   "metadata": {
    "slideshow": {
     "slide_type": "skip"
    }
   },
   "outputs": [],
   "source": [
    "import numpy as np\n",
    "\n",
    "x = np.array(fibo)"
   ]
  },
  {
   "cell_type": "code",
   "execution_count": 21,
   "metadata": {
    "slideshow": {
     "slide_type": "skip"
    }
   },
   "outputs": [],
   "source": [
    "# %load .resps/difp.py\n",
    "# %%timeit\n",
    "i = 0\n",
    "r = np.zeros(len(x)-1)\n",
    "while i < len(x)-1:\n",
    "    r[i] = x[i+1] - x[i]\n",
    "    i = i + 1\n"
   ]
  },
  {
   "cell_type": "code",
   "execution_count": 22,
   "metadata": {
    "slideshow": {
     "slide_type": "skip"
    }
   },
   "outputs": [],
   "source": [
    "import matplotlib.pyplot as plt"
   ]
  },
  {
   "cell_type": "code",
   "execution_count": 23,
   "metadata": {
    "scrolled": false,
    "slideshow": {
     "slide_type": "skip"
    }
   },
   "outputs": [
    {
     "data": {
      "text/plain": [
       "<matplotlib.legend.Legend at 0x7f97a6c0ba90>"
      ]
     },
     "execution_count": 23,
     "metadata": {},
     "output_type": "execute_result"
    },
    {
     "data": {
      "image/png": "[encoded data removed]",
      "text/plain": [
       "<Figure size 432x288 with 1 Axes>"
      ]
     },
     "metadata": {
      "needs_background": "light"
     },
     "output_type": "display_data"
    }
   ],
   "source": [
    "plt.plot(np.arange(99),fibo[:-1],np.arange(99),r)\n",
    "plt.legend(['fibo','dfibo'])"
   ]
  },
  {
   "cell_type": "markdown",
   "metadata": {
    "slideshow": {
     "slide_type": "slide"
    }
   },
   "source": [
    "# Tente\n",
    "\n",
    "`import antigravity`"
   ]
  }
 ],
 "metadata": {
  "celltoolbar": "Slideshow",
  "kernelspec": {
   "display_name": "Python 3",
   "language": "python",
   "name": "python3"
  },
  "language_info": {
   "codemirror_mode": {
    "name": "ipython",
    "version": 3
   },
   "file_extension": ".py",
   "mimetype": "text/x-python",
   "name": "python",
   "nbconvert_exporter": "python",
   "pygments_lexer": "ipython3",
   "version": "3.7.3rc1"
  }
 },
 "nbformat": 4,
 "nbformat_minor": 2
}
