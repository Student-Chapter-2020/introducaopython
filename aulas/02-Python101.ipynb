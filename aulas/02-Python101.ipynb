{
 "cells": [
  {
   "cell_type": "code",
   "execution_count": 1,
   "metadata": {
    "slideshow": {
     "slide_type": "skip"
    }
   },
   "outputs": [],
   "source": [
    "import numpy as np\n",
    "np.set_printoptions(suppress=True)"
   ]
  },
  {
   "cell_type": "markdown",
   "metadata": {
    "slideshow": {
     "slide_type": "slide"
    }
   },
   "source": [
    "# Linguagem Python\n",
    "\n",
    "Python é uma linguagem interpretada, de alto nível e propósito geral. Possui gerenciamento de memória automático, e tipagem dinâmica. Suporta diferentes paradigmas de programação como imperativa, orientada a objetos, funcional e procedural.\n",
    "\n",
    "Nosso foco será uma abordagem **imperativa**, **procedural** e **estruturada**."
   ]
  },
  {
   "cell_type": "markdown",
   "metadata": {
    "slideshow": {
     "slide_type": "slide"
    }
   },
   "source": [
    "# The Zen of Python\n",
    "\n",
    "\n",
    "*Beautiful is better than ugly.*\n",
    "\n",
    "*Explicit is better than implicit.*\n",
    "\n",
    "*Simple is better than complex.*\n",
    "\n",
    "*Complex is better than complicated.*\n",
    "\n",
    "*Flat is better than nested.*\n",
    "\n",
    "*Readability counts.*\n"
   ]
  },
  {
   "cell_type": "markdown",
   "metadata": {
    "slideshow": {
     "slide_type": "slide"
    }
   },
   "source": [
    "# Versões de Python\n",
    "\n",
    "* Python 2.7 (descontinuada em 2020)\n",
    "* Python 3.6 (disponível na maioria das distribuições)\n",
    "* Python 3.7.2 (versão estável atual)"
   ]
  },
  {
   "cell_type": "markdown",
   "metadata": {
    "slideshow": {
     "slide_type": "skip"
    }
   },
   "source": [
    "A maioria dos sistemas operacionais Linux da atualidade ainda utilizam o *Python2* como padrão, desta forma o binario `python` normalmente executa a versão antiga. O uso da versão 2 do Python será descontinuado em 2020. Qualquer referência que recomende o uso desta versão deve ser considerada não confiável.\n",
    "\n",
    "A dependência ao Python 2 na maioria das versões de Linux se dá principalmente pelo grande conjunto de ferramentas que foram desenvolvidas em Python 2 ao longo dos últimos 15 anos. Na atualidade a grande parte dos programas já usa a nova versão, mas ainda não é possível abandonar a versão antiga. Ainda assim, novos aplicativos devem **SEMPRE** ser escritos com suporte a nova versão do Python em mente.\n",
    "\n",
    "Por outro lado no ambiente Windows, como nenhuma ferramenta crítica é baseada em Python o uso da versão 2 se faz totalmente desnecessário."
   ]
  },
  {
   "cell_type": "markdown",
   "metadata": {
    "slideshow": {
     "slide_type": "subslide"
    }
   },
   "source": [
    "![](imagens/python2or3.jpg)"
   ]
  },
  {
   "cell_type": "markdown",
   "metadata": {
    "slideshow": {
     "slide_type": "slide"
    }
   },
   "source": [
    "# Variáveis\n",
    "\n",
    "* Tipagem dinâmica\n",
    "* Por referência\n",
    "* Alocação de memória automática\n",
    "* Coleta de lixo"
   ]
  },
  {
   "cell_type": "markdown",
   "metadata": {
    "slideshow": {
     "slide_type": "skip"
    }
   },
   "source": [
    "Como já mencionado, Python é uma linguagem com *tipagem dinâmica*, isto significa que não é necessário declarar o tipo (numérico, texto, fluxo) do valor armazenado. A abordagem do Python define que o *tipo*, relaciona-se ao dado e não a variável, que atua somente como uma etiqueta (leia-se ponteiro). "
   ]
  },
  {
   "cell_type": "markdown",
   "metadata": {
    "slideshow": {
     "slide_type": "subslide"
    }
   },
   "source": [
    "Por exemplo:"
   ]
  },
  {
   "cell_type": "code",
   "execution_count": 2,
   "metadata": {
    "slideshow": {
     "slide_type": "fragment"
    }
   },
   "outputs": [],
   "source": [
    "a = 3\n",
    "b = 5"
   ]
  },
  {
   "cell_type": "markdown",
   "metadata": {
    "slideshow": {
     "slide_type": "fragment"
    }
   },
   "source": [
    "Operações podem ser realizadas com o literal ou com variáveis como:"
   ]
  },
  {
   "cell_type": "code",
   "execution_count": 3,
   "metadata": {
    "slideshow": {
     "slide_type": "fragment"
    }
   },
   "outputs": [
    {
     "data": {
      "text/plain": [
       "8"
      ]
     },
     "execution_count": 3,
     "metadata": {},
     "output_type": "execute_result"
    }
   ],
   "source": [
    "3 + 5"
   ]
  },
  {
   "cell_type": "code",
   "execution_count": 4,
   "metadata": {
    "slideshow": {
     "slide_type": "fragment"
    }
   },
   "outputs": [
    {
     "data": {
      "text/plain": [
       "8"
      ]
     },
     "execution_count": 4,
     "metadata": {},
     "output_type": "execute_result"
    }
   ],
   "source": [
    "a + b"
   ]
  },
  {
   "cell_type": "markdown",
   "metadata": {
    "slideshow": {
     "slide_type": "subslide"
    }
   },
   "source": [
    "## Tipos numéricos\n",
    "\n",
    "Variáveis podem conter diferentes tipos de valores (inteiros, flutuantes ou *complexos*)"
   ]
  },
  {
   "cell_type": "code",
   "execution_count": 5,
   "metadata": {
    "slideshow": {
     "slide_type": "fragment"
    }
   },
   "outputs": [],
   "source": [
    "pi = 3.141592653589793238462643383279502884197169399375105820974944592307816406286\n",
    "\n",
    "i = 1j\n",
    "\n",
    "idade = 22"
   ]
  },
  {
   "cell_type": "markdown",
   "metadata": {
    "slideshow": {
     "slide_type": "fragment"
    }
   },
   "source": [
    "É possível realizar operações algébricas entre diferentes tipos"
   ]
  },
  {
   "cell_type": "code",
   "execution_count": 6,
   "metadata": {
    "slideshow": {
     "slide_type": "fragment"
    }
   },
   "outputs": [
    {
     "data": {
      "text/plain": [
       "(6.141592653589793+1j)"
      ]
     },
     "execution_count": 6,
     "metadata": {},
     "output_type": "execute_result"
    }
   ],
   "source": [
    "resultado = a + pi + i\n",
    "resultado"
   ]
  },
  {
   "cell_type": "markdown",
   "metadata": {
    "slideshow": {
     "slide_type": "fragment"
    }
   },
   "source": [
    "Note que o resultado é um valor complexo (o maior conjunto)."
   ]
  },
  {
   "cell_type": "markdown",
   "metadata": {
    "slideshow": {
     "slide_type": "subslide"
    }
   },
   "source": [
    "## Métodos para tipos numéricos"
   ]
  },
  {
   "cell_type": "markdown",
   "metadata": {
    "slideshow": {
     "slide_type": "skip"
    }
   },
   "source": [
    "Em Python é possível realizar operações específicas a cada tipo de dado. Chamamos estas operações de métodos.\n",
    "\n",
    "Diferentes tipos de dados possuem métodos adequados as suas características, por exemplo, com nosso resultado complexo podemos extrair suas partes reais e imaginárias"
   ]
  },
  {
   "cell_type": "code",
   "execution_count": 7,
   "metadata": {
    "slideshow": {
     "slide_type": "fragment"
    }
   },
   "outputs": [
    {
     "data": {
      "text/plain": [
       "6.141592653589793"
      ]
     },
     "execution_count": 7,
     "metadata": {},
     "output_type": "execute_result"
    }
   ],
   "source": [
    "resultado.real"
   ]
  },
  {
   "cell_type": "code",
   "execution_count": 8,
   "metadata": {
    "slideshow": {
     "slide_type": "fragment"
    }
   },
   "outputs": [
    {
     "data": {
      "text/plain": [
       "1.0"
      ]
     },
     "execution_count": 8,
     "metadata": {},
     "output_type": "execute_result"
    }
   ],
   "source": [
    "resultado.imag"
   ]
  },
  {
   "cell_type": "markdown",
   "metadata": {
    "slideshow": {
     "slide_type": "slide"
    }
   },
   "source": [
    "## Operações Aritméticas"
   ]
  },
  {
   "cell_type": "markdown",
   "metadata": {
    "slideshow": {
     "slide_type": "skip"
    }
   },
   "source": [
    "Python utiliza os operadores tradicionais para realizar operações aritméticas como $+$, $-$, $*$ e $/$ para divisão e $**$ para potência.\n",
    "\n",
    "Os parênteses (), são utilizados para priorizar uma operação (análogo a matemática convencional). Por outro lado os operadores [] {}, que definem níveis da priorização dos operadores não existem (em Python eles tem outra utilizade). Use os parentêses aninhados no lugar como\n",
    "\n",
    "```12/(1+(2*(3+5)))```\n",
    "\n",
    "tem como equivalente matemático\n",
    "\n",
    "$$\\frac{12}{1+\\left[ 2 \\cdot ( 3 + 5 ) \\right]}$$"
   ]
  },
  {
   "cell_type": "markdown",
   "metadata": {},
   "source": [
    "| Operação  | Significado |\n",
    "|-----------|-------------|\n",
    "| ()        | Executar operação primeiro |\n",
    "| abs(x)     | Valor absoluto de $x$ |\n",
    "| **        | Potência |\n",
    "| *, /, //, %  | Multiplicação, Divisão, Divisão inteira, Divisão modular |\n",
    "| +, -      | Soma, Subtração |\n"
   ]
  },
  {
   "cell_type": "markdown",
   "metadata": {
    "slideshow": {
     "slide_type": "subslide"
    }
   },
   "source": [
    "## Tipo de dados"
   ]
  },
  {
   "cell_type": "markdown",
   "metadata": {
    "slideshow": {
     "slide_type": "skip"
    }
   },
   "source": [
    "Podemos descobrir o tipo do dado utilizando a *keyword* (palavra chave)\n",
    "\n",
    "```type()```\n",
    "\n",
    "Como em:"
   ]
  },
  {
   "cell_type": "code",
   "execution_count": 9,
   "metadata": {
    "slideshow": {
     "slide_type": "fragment"
    }
   },
   "outputs": [
    {
     "data": {
      "text/plain": [
       "int"
      ]
     },
     "execution_count": 9,
     "metadata": {},
     "output_type": "execute_result"
    }
   ],
   "source": [
    "type(a)"
   ]
  },
  {
   "cell_type": "code",
   "execution_count": 10,
   "metadata": {
    "slideshow": {
     "slide_type": "fragment"
    }
   },
   "outputs": [
    {
     "data": {
      "text/plain": [
       "float"
      ]
     },
     "execution_count": 10,
     "metadata": {},
     "output_type": "execute_result"
    }
   ],
   "source": [
    "type(pi)"
   ]
  },
  {
   "cell_type": "code",
   "execution_count": 11,
   "metadata": {
    "slideshow": {
     "slide_type": "fragment"
    }
   },
   "outputs": [
    {
     "data": {
      "text/plain": [
       "float"
      ]
     },
     "execution_count": 11,
     "metadata": {},
     "output_type": "execute_result"
    }
   ],
   "source": [
    "type(resultado.real)"
   ]
  },
  {
   "cell_type": "code",
   "execution_count": 12,
   "metadata": {
    "slideshow": {
     "slide_type": "fragment"
    }
   },
   "outputs": [
    {
     "data": {
      "text/plain": [
       "complex"
      ]
     },
     "execution_count": 12,
     "metadata": {},
     "output_type": "execute_result"
    }
   ],
   "source": [
    "type(resultado)"
   ]
  },
  {
   "cell_type": "markdown",
   "metadata": {
    "slideshow": {
     "slide_type": "slide"
    }
   },
   "source": [
    "# Exercício: raízes de um polinômio de grau dois\n",
    "\n",
    "Dada a equação polinomial\n",
    "\n",
    "\\begin{equation}\n",
    "ax^2 + bx + c = 0,\n",
    "\\end{equation}\n",
    "\n",
    "encontar as raízes $x_1$ e $x_2$ que podem ser obtidas através da fórmula\n",
    "\n",
    "\\begin{equation}\\label{delta}\n",
    "\\Delta = b^2 - 4 a c\n",
    "\\end{equation}\n",
    "e\n",
    "\\begin{equation}\\label{raizes}\n",
    "x = \\frac{-b \\pm \\sqrt{\\Delta}}{2a}.\n",
    "\\end{equation}"
   ]
  },
  {
   "cell_type": "markdown",
   "metadata": {
    "slideshow": {
     "slide_type": "skip"
    }
   },
   "source": [
    "Vamos apresentar uma passo a passo para resolver este problema, tente preencher as lacunas. (e não se acostume)"
   ]
  },
  {
   "cell_type": "markdown",
   "metadata": {
    "slideshow": {
     "slide_type": "skip"
    }
   },
   "source": [
    "1. Declare as variáveis Python `a`, `b` e `c`, que irão armazenar os coeficientes polinomiais. Lembre-se de sempre digitar `SHIFT + ENTER` para executar os comandos."
   ]
  },
  {
   "cell_type": "code",
   "execution_count": 13,
   "metadata": {
    "slideshow": {
     "slide_type": "skip"
    }
   },
   "outputs": [],
   "source": [
    "# Faça aqui."
   ]
  },
  {
   "cell_type": "markdown",
   "metadata": {
    "slideshow": {
     "slide_type": "skip"
    }
   },
   "source": [
    "2. Declare uma variavel `delta` que armazena a operação da equação $\\Delta$. Verifique a tabela de operações caso não lembre algum operador."
   ]
  },
  {
   "cell_type": "code",
   "execution_count": 14,
   "metadata": {
    "slideshow": {
     "slide_type": "skip"
    }
   },
   "outputs": [],
   "source": [
    "# Faça aqui"
   ]
  },
  {
   "cell_type": "markdown",
   "metadata": {
    "slideshow": {
     "slide_type": "skip"
    }
   },
   "source": [
    "3. Declare uma variável `x1` que recebe a forma positiva da equação $x$ e uma variável `x2` que recebe a forma negativa. Faça em dois comandos separados. Dica: A potência de $\\frac{1}{2}$ pode ser utilizado como raiz quadrada. Exemplo:\n",
    "\n",
    "\\begin{equation}\n",
    "4^{\\frac{1}{2}} = 2\n",
    "\\end{equation}"
   ]
  },
  {
   "cell_type": "code",
   "execution_count": 15,
   "metadata": {
    "slideshow": {
     "slide_type": "skip"
    }
   },
   "outputs": [],
   "source": [
    "# Calcule e armazene x1 aqui"
   ]
  },
  {
   "cell_type": "code",
   "execution_count": 16,
   "metadata": {
    "slideshow": {
     "slide_type": "skip"
    }
   },
   "outputs": [],
   "source": [
    "# Calcule e armazene x2 aqui"
   ]
  },
  {
   "cell_type": "markdown",
   "metadata": {
    "slideshow": {
     "slide_type": "skip"
    }
   },
   "source": [
    "Descomente abaixo (retirar o #) para exibir as raizes encontradas e execute a linha com `SHIFT-ENTER`\n",
    "\n",
    "Por exemplo se utilizar $a = 3, b = 5, c = 2$, deve-se encontrar as raízes $x_1 = -\\frac{2}{3} \\approx -0,66$ e $x_2 = -1$"
   ]
  },
  {
   "cell_type": "code",
   "execution_count": 17,
   "metadata": {
    "slideshow": {
     "slide_type": "skip"
    }
   },
   "outputs": [],
   "source": [
    "#x1, x2"
   ]
  },
  {
   "cell_type": "markdown",
   "metadata": {
    "slideshow": {
     "slide_type": "skip"
    }
   },
   "source": [
    "Abaixo você pode ver a resposta, recomenda-se não descomentar até tentar bastante. Aprendemos mais com os erros do que com os acertos."
   ]
  },
  {
   "cell_type": "code",
   "execution_count": 18,
   "metadata": {
    "slideshow": {
     "slide_type": "skip"
    }
   },
   "outputs": [],
   "source": [
    "# RESPOSTA\n",
    "# %load .resps/seggrau.py"
   ]
  },
  {
   "cell_type": "markdown",
   "metadata": {
    "slideshow": {
     "slide_type": "slide"
    }
   },
   "source": [
    "## Strings"
   ]
  },
  {
   "cell_type": "markdown",
   "metadata": {
    "slideshow": {
     "slide_type": "-"
    }
   },
   "source": [
    "Strings (em português: cadeias), são normalmente utilizados para fazer referência a uma sequência de caracteres alfanuméricos. O uso mais comun é armazenar textos como *nomes*, *etiquetas*, *endereços*. \n",
    "\n",
    "Strings são definidos como conjuntos de caracteres envoltos por aspas simples `'` ou duplas `\"`. "
   ]
  },
  {
   "cell_type": "markdown",
   "metadata": {
    "slideshow": {
     "slide_type": "skip"
    }
   },
   "source": [
    "É importante notar que números armazenados como *strings* perdem seu sentido numérico e passam a ser considerados como parte de um texto, por isso não podem ser utilizados em operações algébricas.\n",
    "\n",
    "No Python prefere-se utilizar as aspas simples como delimitador de strings, exceto quando necessário usar as aspas duplas (no caso de haver as aspas simples no texto)."
   ]
  },
  {
   "cell_type": "code",
   "execution_count": 19,
   "metadata": {
    "slideshow": {
     "slide_type": "fragment"
    }
   },
   "outputs": [],
   "source": [
    "nome = \"Joao da Silva\"\n",
    "universidade = \"Universidade do Estado do Rio de Janeiro\""
   ]
  },
  {
   "cell_type": "code",
   "execution_count": 20,
   "metadata": {
    "slideshow": {
     "slide_type": "fragment"
    }
   },
   "outputs": [
    {
     "data": {
      "text/plain": [
       "'Universidade do Estado do Rio de Janeiro'"
      ]
     },
     "execution_count": 20,
     "metadata": {},
     "output_type": "execute_result"
    }
   ],
   "source": [
    "universidade"
   ]
  },
  {
   "cell_type": "code",
   "execution_count": 21,
   "metadata": {
    "slideshow": {
     "slide_type": "fragment"
    }
   },
   "outputs": [
    {
     "data": {
      "text/plain": [
       "str"
      ]
     },
     "execution_count": 21,
     "metadata": {},
     "output_type": "execute_result"
    }
   ],
   "source": [
    "type(nome)"
   ]
  },
  {
   "cell_type": "markdown",
   "metadata": {
    "slideshow": {
     "slide_type": "subslide"
    }
   },
   "source": [
    "### Operações com strings"
   ]
  },
  {
   "cell_type": "markdown",
   "metadata": {
    "slideshow": {
     "slide_type": "skip"
    }
   },
   "source": [
    "É possível concatenar (podemos pensar como somar) strings utilizando o operador \"+\". O operador '*' permite repetir uma string um quantidade determinada de vezes.\n",
    "\n",
    "Lembre-se que a soma de números dentro de uma string não é possível, ao invés disso as strings são concatenadas."
   ]
  },
  {
   "cell_type": "code",
   "execution_count": 22,
   "metadata": {
    "slideshow": {
     "slide_type": "fragment"
    }
   },
   "outputs": [
    {
     "data": {
      "text/plain": [
       "'Joao da Silva estuda na Universidade do Estado do Rio de Janeiro'"
      ]
     },
     "execution_count": 22,
     "metadata": {},
     "output_type": "execute_result"
    }
   ],
   "source": [
    "nome + ' estuda na ' + universidade"
   ]
  },
  {
   "cell_type": "code",
   "execution_count": 23,
   "metadata": {
    "slideshow": {
     "slide_type": "fragment"
    }
   },
   "outputs": [
    {
     "data": {
      "text/plain": [
       "'Joao da Silva estuda na Universidade do Estado do Rio de Janeiro'"
      ]
     },
     "execution_count": 23,
     "metadata": {},
     "output_type": "execute_result"
    }
   ],
   "source": [
    "frase = nome + ' estuda na ' + universidade\n",
    "frase"
   ]
  },
  {
   "cell_type": "code",
   "execution_count": 24,
   "metadata": {
    "slideshow": {
     "slide_type": "fragment"
    }
   },
   "outputs": [
    {
     "data": {
      "text/plain": [
       "'NanNanNanNanNanNanNanNanNanNan Batman'"
      ]
     },
     "execution_count": 24,
     "metadata": {},
     "output_type": "execute_result"
    }
   ],
   "source": [
    "10 * 'Nan' + ' Batman'"
   ]
  },
  {
   "cell_type": "code",
   "execution_count": 25,
   "metadata": {
    "slideshow": {
     "slide_type": "fragment"
    }
   },
   "outputs": [
    {
     "data": {
      "text/plain": [
       "'1020'"
      ]
     },
     "execution_count": 25,
     "metadata": {},
     "output_type": "execute_result"
    }
   ],
   "source": [
    "a = '10'\n",
    "b = '20'\n",
    "a + b"
   ]
  },
  {
   "cell_type": "markdown",
   "metadata": {
    "slideshow": {
     "slide_type": "subslide"
    }
   },
   "source": [
    "### Índices e Fatias"
   ]
  },
  {
   "cell_type": "markdown",
   "metadata": {
    "slideshow": {
     "slide_type": "skip"
    }
   },
   "source": [
    "É possível acessar partes de uma string utilizando índices (*indexes*) e fatias (*slices*). Com isso, podemos selectionar um único caracter ou um grupo deles.\n",
    "\n",
    "Um índice pode ser acessado com\n",
    "\n",
    "`variavel[n]`\n",
    "\n",
    "onde `n` é a posição que deseja acessar (começando em 0).\n",
    "\n",
    "Podemos também acessar as fatias utilizando a notação:\n",
    "\n",
    "`variavel[a:b:inc]`\n",
    "\n",
    "Onde `a` é a posição inicial e `b` a posição final (não inclusa). Pode-se também fazer refererência a indexação reversa utilizando o sinal negativo ($-$). O terceiro valor `inc` é opcional e pode ser inclusive reverso (sinal negativo)"
   ]
  },
  {
   "cell_type": "code",
   "execution_count": 26,
   "metadata": {
    "slideshow": {
     "slide_type": "fragment"
    }
   },
   "outputs": [
    {
     "data": {
      "text/plain": [
       "('U', 'E', 'R', 'J')"
      ]
     },
     "execution_count": 26,
     "metadata": {},
     "output_type": "execute_result"
    }
   ],
   "source": [
    "universidade[0], universidade[16], universidade[26], universidade[33]"
   ]
  },
  {
   "cell_type": "code",
   "execution_count": 27,
   "metadata": {
    "slideshow": {
     "slide_type": "fragment"
    }
   },
   "outputs": [
    {
     "data": {
      "text/plain": [
       "'Joao'"
      ]
     },
     "execution_count": 27,
     "metadata": {},
     "output_type": "execute_result"
    }
   ],
   "source": [
    "nome[0:4]"
   ]
  },
  {
   "cell_type": "code",
   "execution_count": 28,
   "metadata": {
    "slideshow": {
     "slide_type": "fragment"
    }
   },
   "outputs": [
    {
     "data": {
      "text/plain": [
       "'de Janei'"
      ]
     },
     "execution_count": 28,
     "metadata": {},
     "output_type": "execute_result"
    }
   ],
   "source": [
    "universidade[-10:-2]"
   ]
  },
  {
   "cell_type": "code",
   "execution_count": 29,
   "metadata": {
    "slideshow": {
     "slide_type": "fragment"
    }
   },
   "outputs": [
    {
     "data": {
      "text/plain": [
       "'aein'"
      ]
     },
     "execution_count": 29,
     "metadata": {},
     "output_type": "execute_result"
    }
   ],
   "source": [
    "alfabeto = 'abcdefghijlmnopqrstuvxyz'\n",
    "alfabeto[0:15:4]"
   ]
  },
  {
   "cell_type": "code",
   "execution_count": 30,
   "metadata": {
    "slideshow": {
     "slide_type": "fragment"
    }
   },
   "outputs": [
    {
     "data": {
      "text/plain": [
       "'orienaJ ed oiR'"
      ]
     },
     "execution_count": 30,
     "metadata": {},
     "output_type": "execute_result"
    }
   ],
   "source": [
    "universidade[-1:-15:-1]"
   ]
  },
  {
   "cell_type": "markdown",
   "metadata": {
    "slideshow": {
     "slide_type": "subslide"
    }
   },
   "source": [
    "### Funções e métodos"
   ]
  },
  {
   "cell_type": "markdown",
   "metadata": {
    "slideshow": {
     "slide_type": "skip"
    }
   },
   "source": [
    "Assim como os tipos numéricos, as strings também possuem funções e métodos que podem ser utilizados. Abaixo existe alguns exemplos do que pode ser utilizado. Se estiver interessado veja outros [métodos](https://docs.python.org/3/library/stdtypes.html#string-methods) de strings."
   ]
  },
  {
   "cell_type": "code",
   "execution_count": 31,
   "metadata": {
    "slideshow": {
     "slide_type": "fragment"
    }
   },
   "outputs": [
    {
     "data": {
      "text/plain": [
       "'UNIVERSIDADE DO ESTADO DO RIO DE JANEIRO'"
      ]
     },
     "execution_count": 31,
     "metadata": {},
     "output_type": "execute_result"
    }
   ],
   "source": [
    "universidade.upper()"
   ]
  },
  {
   "cell_type": "code",
   "execution_count": 32,
   "metadata": {
    "slideshow": {
     "slide_type": "fragment"
    }
   },
   "outputs": [
    {
     "data": {
      "text/plain": [
       "'joao da silva'"
      ]
     },
     "execution_count": 32,
     "metadata": {},
     "output_type": "execute_result"
    }
   ],
   "source": [
    "nome.lower()"
   ]
  },
  {
   "cell_type": "code",
   "execution_count": 33,
   "metadata": {
    "slideshow": {
     "slide_type": "fragment"
    }
   },
   "outputs": [
    {
     "data": {
      "text/plain": [
       "2"
      ]
     },
     "execution_count": 33,
     "metadata": {},
     "output_type": "execute_result"
    }
   ],
   "source": [
    "nome.count('o')"
   ]
  },
  {
   "cell_type": "code",
   "execution_count": 34,
   "metadata": {
    "slideshow": {
     "slide_type": "fragment"
    }
   },
   "outputs": [
    {
     "data": {
      "text/plain": [
       "13"
      ]
     },
     "execution_count": 34,
     "metadata": {},
     "output_type": "execute_result"
    }
   ],
   "source": [
    "len(nome)"
   ]
  },
  {
   "cell_type": "markdown",
   "metadata": {
    "slideshow": {
     "slide_type": "slide"
    }
   },
   "source": [
    "## Strings de formatação\n",
    "\n",
    "* Usado para formatar strings\n",
    "\n",
    "* Possui 3 formas\n",
    "\n",
    "  * Antigo (`%`)\n",
    "  \n",
    "  * Atual (`{}` e `format`)\n",
    "  \n",
    "  * Futuro (f-strings)\n",
    "\n"
   ]
  },
  {
   "cell_type": "markdown",
   "metadata": {
    "slideshow": {
     "slide_type": "skip"
    }
   },
   "source": [
    "Para imprimir strings em conjunto com outros tipos de dado é necessário criar uma string de formatação. Esta string utiliza-se de símbolos especiais que são substituídos pelo conteúdo das variáveis espeficidadas. Dentro do Python existem diversas formas de realizar esta formatação. Aqui daremos enfase o método mais utilizado.\n",
    "\n",
    "Uma string de formatação utiliza os caracteres `{}` como um coringa a ser substituído pela variável, na ordem quem que ela aparece."
   ]
  },
  {
   "cell_type": "code",
   "execution_count": 35,
   "metadata": {
    "slideshow": {
     "slide_type": "fragment"
    }
   },
   "outputs": [],
   "source": [
    "frase_fmt = '{} estuda na {}'"
   ]
  },
  {
   "cell_type": "code",
   "execution_count": 36,
   "metadata": {
    "slideshow": {
     "slide_type": "fragment"
    }
   },
   "outputs": [],
   "source": [
    "frase = frase_fmt.format(nome, universidade)"
   ]
  },
  {
   "cell_type": "code",
   "execution_count": 37,
   "metadata": {
    "slideshow": {
     "slide_type": "fragment"
    }
   },
   "outputs": [
    {
     "name": "stdout",
     "output_type": "stream",
     "text": [
      "Joao da Silva estuda na Universidade do Estado do Rio de Janeiro\n"
     ]
    }
   ],
   "source": [
    "print(frase)"
   ]
  },
  {
   "cell_type": "code",
   "execution_count": 38,
   "metadata": {
    "slideshow": {
     "slide_type": "fragment"
    }
   },
   "outputs": [],
   "source": [
    "patrimonio = '1 milhão e 42 mil reais'"
   ]
  },
  {
   "cell_type": "code",
   "execution_count": 39,
   "metadata": {
    "slideshow": {
     "slide_type": "fragment"
    }
   },
   "outputs": [
    {
     "name": "stdout",
     "output_type": "stream",
     "text": [
      "Meu nome é Joao da Silva, tenho 22 anos e 1 milhão e 42 mil reais de patrimônio acumulado.\n"
     ]
    }
   ],
   "source": [
    "print('Meu nome é {}, tenho {} anos e {} de patrimônio acumulado.'.format(nome, idade, patrimonio))"
   ]
  },
  {
   "cell_type": "markdown",
   "metadata": {
    "slideshow": {
     "slide_type": "subslide"
    }
   },
   "source": [
    "### Formatando variáveis"
   ]
  },
  {
   "cell_type": "markdown",
   "metadata": {
    "slideshow": {
     "slide_type": "skip"
    }
   },
   "source": [
    "É possível formatar a apresentação das variáveis, como limitar o número de caracteres, alinhar a direita, mostrar somente 3 casas decimais. Para tal deve-se passar parametros para cada um dos coringas da string de formatação. Aqui veremos como formatar *strings*, *inteiros* e *valores de ponto flutuante*.\n",
    "\n",
    "O elemento coringa `{}` deve ser formatado da seguinte forma:"
   ]
  },
  {
   "cell_type": "markdown",
   "metadata": {
    "slideshow": {
     "slide_type": "-"
    }
   },
   "source": [
    "```\n",
    "'{:MNT}'\n",
    "```\n",
    "\n",
    "onde `M` é o modificador, `N` é o número de caracteres e `T` é o tipo sendo formatado. Os parametros `M`, `N` e não são obrigatórios e podem ser omitidos."
   ]
  },
  {
   "cell_type": "code",
   "execution_count": 40,
   "metadata": {
    "slideshow": {
     "slide_type": "fragment"
    }
   },
   "outputs": [
    {
     "name": "stdout",
     "output_type": "stream",
     "text": [
      "Numero:  00042\n"
     ]
    }
   ],
   "source": [
    "print(\"Numero:  {:05d}\".format(42))"
   ]
  },
  {
   "cell_type": "code",
   "execution_count": 41,
   "metadata": {
    "slideshow": {
     "slide_type": "fragment"
    }
   },
   "outputs": [
    {
     "name": "stdout",
     "output_type": "stream",
     "text": [
      "A próxima palavra       qual será alinhada à direita\n"
     ]
    }
   ],
   "source": [
    "print(\"A próxima palavra {:>10s} será alinhada à direita\".format(\"qual\"))"
   ]
  },
  {
   "cell_type": "code",
   "execution_count": 54,
   "metadata": {
    "slideshow": {
     "slide_type": "fragment"
    }
   },
   "outputs": [
    {
     "name": "stdout",
     "output_type": "stream",
     "text": [
      "Podemos representar PI 3.14 com 2 ou 10 casas decimais 3.1415926536. Podemos inclusive mostrar em notação científica 3.141593e+00.\n"
     ]
    }
   ],
   "source": [
    "print(\"Podemos representar PI {:4.2f} com 2 ou 10 casas \"\n",
    "      \"decimais {:.10f}. Podemos inclusive mostrar em \"\n",
    "      \"notação científica {:e}.\".format(pi, pi, pi))"
   ]
  },
  {
   "cell_type": "markdown",
   "metadata": {
    "slideshow": {
     "slide_type": "subslide"
    }
   },
   "source": [
    "#### Mais exemplos de formatação\n",
    "\n",
    "| Tipo | Formato | Explicação |\n",
    "|------|---------|------------|\n",
    "| {:d} | Inteiro | Exibe um valor inteiro |\n",
    "| {:5d} | Inteiro | Exibe um inteiro alinhado a direita em 5 casas |\n",
    "| {:05d} | Inteiro | Exibe um inteiro completando com 0 a direita até 5 casas |\n",
    "| {:f} | Flutuante | Exibe um valor de ponto flutuante |\n",
    "| {:<5f} | Flutuante | Exibe um valor de ponto flutuante até 4 dígitos e ponto alinhado a esquerda |\n",
    "| {:5.2f} | Flutuante | Exibe um valor de ponto flutuante até 4 dígitos e ponto sendo 2 deles decimais |\n",
    "| {:.2e} | Flutuante | Exibe em formato de notação científica com 2 casas decimais |\n",
    "| {:s} | String | Exibe uma string |\n",
    "| {:25s} | String | Exibe 25 caracteres de uma string | \n",
    "| {:>25s} | String | Exibe 25 caracteres da string alinhado a direita |\n"
   ]
  },
  {
   "cell_type": "markdown",
   "metadata": {
    "slideshow": {
     "slide_type": "slide"
    }
   },
   "source": [
    "## Condicionais"
   ]
  },
  {
   "cell_type": "markdown",
   "metadata": {
    "slideshow": {
     "slide_type": "skip"
    }
   },
   "source": [
    "Operações condicionais são utilizadas para decidir o fluxo de um programa, normalmente são utilizados realizando comparações entre diferentes variáveis, caso a condição seja verdadeira, uma parte do código é executada, caso contrário outa parte do código é executada. Esta operação é uma das condições necessárias para que a lingaguem seja Turing Completa. Em Python os condicionais são as palavras chave `if`, `else`, `elif` e `while` (este último veremos mais adiante)."
   ]
  },
  {
   "cell_type": "markdown",
   "metadata": {
    "slideshow": {
     "slide_type": "fragment"
    }
   },
   "source": [
    "### Condições"
   ]
  },
  {
   "cell_type": "code",
   "execution_count": 43,
   "metadata": {
    "slideshow": {
     "slide_type": "fragment"
    }
   },
   "outputs": [
    {
     "data": {
      "text/plain": [
       "True"
      ]
     },
     "execution_count": 43,
     "metadata": {},
     "output_type": "execute_result"
    }
   ],
   "source": [
    "5 >= 3"
   ]
  },
  {
   "cell_type": "code",
   "execution_count": 44,
   "metadata": {
    "slideshow": {
     "slide_type": "fragment"
    }
   },
   "outputs": [
    {
     "data": {
      "text/plain": [
       "False"
      ]
     },
     "execution_count": 44,
     "metadata": {},
     "output_type": "execute_result"
    }
   ],
   "source": [
    "5 < 3"
   ]
  },
  {
   "cell_type": "code",
   "execution_count": 45,
   "metadata": {
    "slideshow": {
     "slide_type": "fragment"
    }
   },
   "outputs": [
    {
     "data": {
      "text/plain": [
       "False"
      ]
     },
     "execution_count": 45,
     "metadata": {},
     "output_type": "execute_result"
    }
   ],
   "source": [
    "nome.lower() == \"joao\""
   ]
  },
  {
   "cell_type": "code",
   "execution_count": 46,
   "metadata": {
    "slideshow": {
     "slide_type": "fragment"
    }
   },
   "outputs": [
    {
     "data": {
      "text/plain": [
       "True"
      ]
     },
     "execution_count": 46,
     "metadata": {},
     "output_type": "execute_result"
    }
   ],
   "source": [
    "nome[0:4].lower() == \"joao\""
   ]
  },
  {
   "cell_type": "markdown",
   "metadata": {
    "slideshow": {
     "slide_type": "fragment"
    }
   },
   "source": [
    "O valor de retorno de uma condição é do *tipo* **boleano**, que pode assumir dois valores `True` ou `False` (a primeira letra é uma maiúsculas)."
   ]
  },
  {
   "cell_type": "markdown",
   "metadata": {
    "slideshow": {
     "slide_type": "subslide"
    }
   },
   "source": [
    "### Tabela de operadores condicionais"
   ]
  },
  {
   "cell_type": "markdown",
   "metadata": {
    "slideshow": {
     "slide_type": "skip"
    }
   },
   "source": [
    "Os operadores condicionais podem ser de dois tipo **unários** e **binários**. Os operadores unários atuam no elemento seguinte. O operador binário fica entre os dois elementos sendo avaliados. São equivalentes aos operadores lógico e matemáticos conhecidos."
   ]
  },
  {
   "cell_type": "markdown",
   "metadata": {
    "slideshow": {
     "slide_type": "-"
    }
   },
   "source": [
    "| Operação  | Significado Matemático |\n",
    "|-----------|-------------|\n",
    "| ==, !=        | $=$, $\\ne$ |\n",
    "| >, >=, <, <=        | $\\gt$, $\\ge$, $\\lt$, $\\le$ |\n",
    "| `in`  | $\\subset$ |\n",
    "| `not` | $\\neg$ |\n",
    "| `and` | $\\land$ |\n",
    "| `or` | $\\vee$ |"
   ]
  },
  {
   "cell_type": "markdown",
   "metadata": {
    "slideshow": {
     "slide_type": "-"
    }
   },
   "source": [
    "Operadores condicionais tem menor prioridade do que os operadores aritméticos, ou seja, são analisados após as operações algébricas. \n",
    "\n",
    "Os operadores `not`, `and` e `or` são operadores boleanos, isto é, somente são aplicados sobre tipos boleanos."
   ]
  },
  {
   "cell_type": "markdown",
   "metadata": {
    "slideshow": {
     "slide_type": "subslide"
    }
   },
   "source": [
    "### Declaração condicional `if`, `elif` e `else`\n",
    "\n",
    "* Três formas mais utilizadas\n",
    "* Indentação é a estrutura de controle dos blocos de código\n",
    "* Somente a primeira condição verdadeira é executada."
   ]
  },
  {
   "cell_type": "markdown",
   "metadata": {
    "slideshow": {
     "slide_type": "subslide"
    }
   },
   "source": [
    "#### Declaração `if`"
   ]
  },
  {
   "cell_type": "markdown",
   "metadata": {
    "slideshow": {
     "slide_type": "skip"
    }
   },
   "source": [
    "Forma mais simples de realizar uma sentença condicional. Se `CONDIÇÃO` for verdadeira, executa o código indentado que segue imediatamente a declaração. Ao terminar o código indentado a execução do código continua na proxima linha após a declaração."
   ]
  },
  {
   "cell_type": "markdown",
   "metadata": {
    "slideshow": {
     "slide_type": "fragment"
    }
   },
   "source": [
    "```\n",
    "if CONDIÇÃO:\n",
    "    Bloco de Código se verdadeiro\n",
    "```"
   ]
  },
  {
   "cell_type": "markdown",
   "metadata": {
    "slideshow": {
     "slide_type": "fragment"
    }
   },
   "source": [
    "Exemplo:"
   ]
  },
  {
   "cell_type": "code",
   "execution_count": 47,
   "metadata": {
    "slideshow": {
     "slide_type": "-"
    }
   },
   "outputs": [],
   "source": [
    "temperatura = 28"
   ]
  },
  {
   "cell_type": "code",
   "execution_count": 48,
   "metadata": {
    "slideshow": {
     "slide_type": "fragment"
    }
   },
   "outputs": [
    {
     "name": "stdout",
     "output_type": "stream",
     "text": [
      "Muito quente, vou ligar o ar condicionado.\n",
      "Agora a temperatura é 23. Desta forma da para estudar.\n"
     ]
    }
   ],
   "source": [
    "if temperatura > 24:\n",
    "    print(\"Muito quente, vou ligar o ar condicionado.\")\n",
    "    temperatura = temperatura - 5\n",
    "print(\"Agora a temperatura é {}. Desta forma da para estudar.\".format(temperatura))"
   ]
  },
  {
   "cell_type": "markdown",
   "metadata": {
    "slideshow": {
     "slide_type": "subslide"
    }
   },
   "source": [
    "#### Declaração `if` `else`"
   ]
  },
  {
   "cell_type": "markdown",
   "metadata": {
    "slideshow": {
     "slide_type": "skip"
    }
   },
   "source": [
    "Permite declarar blocos de código que são executados caso `CONDIÇÃO` seja verdadeira ou caso seja falsa."
   ]
  },
  {
   "cell_type": "markdown",
   "metadata": {
    "slideshow": {
     "slide_type": "fragment"
    }
   },
   "source": [
    "```\n",
    "if CONDIÇÃO:\n",
    "    Bloco de Código se verdadeiro\n",
    "else:\n",
    "    Bloco de Código se falso\n",
    "```"
   ]
  },
  {
   "cell_type": "markdown",
   "metadata": {
    "slideshow": {
     "slide_type": "fragment"
    }
   },
   "source": [
    "Exemplo:"
   ]
  },
  {
   "cell_type": "code",
   "execution_count": 49,
   "metadata": {
    "slideshow": {
     "slide_type": "-"
    }
   },
   "outputs": [],
   "source": [
    "idade = 21"
   ]
  },
  {
   "cell_type": "code",
   "execution_count": 50,
   "metadata": {
    "slideshow": {
     "slide_type": "fragment"
    }
   },
   "outputs": [
    {
     "name": "stdout",
     "output_type": "stream",
     "text": [
      "Tem que pagar inteira.\n"
     ]
    }
   ],
   "source": [
    "if (idade < 18) or (idade > 65):\n",
    "    print(\"Meia entrada garantida.\")\n",
    "else:\n",
    "    print(\"Tem que pagar inteira.\")"
   ]
  },
  {
   "cell_type": "markdown",
   "metadata": {
    "slideshow": {
     "slide_type": "subslide"
    }
   },
   "source": [
    "#### Declaração `if` `elif...` `else`\n",
    "\n"
   ]
  },
  {
   "cell_type": "markdown",
   "metadata": {
    "slideshow": {
     "slide_type": "-"
    }
   },
   "source": [
    "```\n",
    "if CONDIÇÃO1:\n",
    "    Bloco de Código se CONDIÇÃO1 verdadeira\n",
    "elif CONDIÇÃO2:\n",
    "    Bloco de código se CONDIÇÃO2 verdadeira\n",
    "...\n",
    "else:\n",
    "    Bloco de código se todas condições são falsas\n",
    "```"
   ]
  },
  {
   "cell_type": "markdown",
   "metadata": {
    "slideshow": {
     "slide_type": "subslide"
    }
   },
   "source": [
    "### Exercício (condicionais)\n",
    "\n",
    "Dado um intervalo qualquer $I = [a, b]$  verificar se o valor armazenado em `c` pertence à $I$, isto é, $c \\in I$. Caso seja, imprimir $c$, caso não seja imprimir o valor mais próximo contido no intervalo. Pontos extra se resolver tanto os casos onde $a \\le b$ e $b \\le a$."
   ]
  },
  {
   "cell_type": "code",
   "execution_count": 51,
   "metadata": {},
   "outputs": [],
   "source": [
    "# RESPOSTA\n",
    "# %load .resps/cond.py"
   ]
  },
  {
   "cell_type": "markdown",
   "metadata": {
    "slideshow": {
     "slide_type": "subslide"
    }
   },
   "source": [
    "\n",
    "## Listas"
   ]
  },
  {
   "cell_type": "markdown",
   "metadata": {
    "slideshow": {
     "slide_type": "skip"
    }
   },
   "source": [
    "* Listas (concatenar), métodos comuns\n",
    "\n",
    "* while (fibbonacci)\n",
    "\n",
    "```\n",
    "a, b = 0, 1\n",
    "while a < 10:\n",
    "     print(a)\n",
    "     a, b = b, a+b\n",
    "```\n",
    "\n",
    "* Exerc (os 30 primeiros numeros de fibonacci em uma lista)\n",
    "\n",
    "* O array numpy\n",
    "\n",
    "* Aritimética com array numpy\n",
    "\n",
    "* Exercicio (encontrando diferencas progressivas de primera ordem), encontrando os pontos médios.\n",
    "\n",
    "* Espaco linear\n",
    "\n",
    "* visualizando o espaco linear"
   ]
  },
  {
   "cell_type": "code",
   "execution_count": 52,
   "metadata": {
    "slideshow": {
     "slide_type": "skip"
    }
   },
   "outputs": [],
   "source": [
    "# %load .resps/fibo.py"
   ]
  },
  {
   "cell_type": "code",
   "execution_count": 53,
   "metadata": {
    "slideshow": {
     "slide_type": "skip"
    }
   },
   "outputs": [
    {
     "ename": "NameError",
     "evalue": "name 'fibo' is not defined",
     "output_type": "error",
     "traceback": [
      "\u001b[0;31m---------------------------------------------------------------------------\u001b[0m",
      "\u001b[0;31mNameError\u001b[0m                                 Traceback (most recent call last)",
      "\u001b[0;32m<ipython-input-53-607749976bb6>\u001b[0m in \u001b[0;36m<module>\u001b[0;34m\u001b[0m\n\u001b[1;32m      1\u001b[0m \u001b[0;32mimport\u001b[0m \u001b[0mnumpy\u001b[0m \u001b[0;32mas\u001b[0m \u001b[0mnp\u001b[0m\u001b[0;34m\u001b[0m\u001b[0;34m\u001b[0m\u001b[0m\n\u001b[1;32m      2\u001b[0m \u001b[0;34m\u001b[0m\u001b[0m\n\u001b[0;32m----> 3\u001b[0;31m \u001b[0mx\u001b[0m \u001b[0;34m=\u001b[0m \u001b[0mnp\u001b[0m\u001b[0;34m.\u001b[0m\u001b[0marray\u001b[0m\u001b[0;34m(\u001b[0m\u001b[0mfibo\u001b[0m\u001b[0;34m)\u001b[0m\u001b[0;34m\u001b[0m\u001b[0;34m\u001b[0m\u001b[0m\n\u001b[0m",
      "\u001b[0;31mNameError\u001b[0m: name 'fibo' is not defined"
     ]
    }
   ],
   "source": [
    "import numpy as np\n",
    "\n",
    "x = np.array(fibo)"
   ]
  },
  {
   "cell_type": "code",
   "execution_count": null,
   "metadata": {
    "slideshow": {
     "slide_type": "skip"
    }
   },
   "outputs": [],
   "source": [
    "# %load .resps/difp.py\n",
    "# %%timeit\n",
    "i = 0\n",
    "r = np.zeros(len(x)-1)\n",
    "while i < len(x)-1:\n",
    "    r[i] = x[i+1] - x[i]\n",
    "    i = i + 1\n"
   ]
  },
  {
   "cell_type": "code",
   "execution_count": null,
   "metadata": {
    "slideshow": {
     "slide_type": "skip"
    }
   },
   "outputs": [],
   "source": [
    "import matplotlib.pyplot as plt"
   ]
  },
  {
   "cell_type": "code",
   "execution_count": null,
   "metadata": {
    "scrolled": false,
    "slideshow": {
     "slide_type": "skip"
    }
   },
   "outputs": [],
   "source": [
    "plt.plot(np.arange(99),fibo[:-1],np.arange(99),r)\n",
    "plt.legend(['fibo','dfibo'])"
   ]
  },
  {
   "cell_type": "markdown",
   "metadata": {
    "slideshow": {
     "slide_type": "slide"
    }
   },
   "source": [
    "# Tente\n",
    "\n",
    "`import antigravity`"
   ]
  },
  {
   "cell_type": "code",
   "execution_count": null,
   "metadata": {},
   "outputs": [],
   "source": [
    "import graphics"
   ]
  },
  {
   "cell_type": "code",
   "execution_count": null,
   "metadata": {},
   "outputs": [],
   "source": []
  }
 ],
 "metadata": {
  "celltoolbar": "Slideshow",
  "kernelspec": {
   "display_name": "Python 3",
   "language": "python",
   "name": "python3"
  },
  "language_info": {
   "codemirror_mode": {
    "name": "ipython",
    "version": 3
   },
   "file_extension": ".py",
   "mimetype": "text/x-python",
   "name": "python",
   "nbconvert_exporter": "python",
   "pygments_lexer": "ipython3",
   "version": "3.7.3rc1"
  }
 },
 "nbformat": 4,
 "nbformat_minor": 2
}
